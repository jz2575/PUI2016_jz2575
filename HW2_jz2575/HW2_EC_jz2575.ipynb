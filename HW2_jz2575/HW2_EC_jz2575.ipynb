{
 "cells": [
  {
   "cell_type": "code",
   "execution_count": 1,
   "metadata": {
    "collapsed": false
   },
   "outputs": [
    {
     "name": "stdout",
     "output_type": "stream",
     "text": [
      "/home/cusp/jz2575/PUIdata\n",
      "/gws/open/NYCOpenData/nycopendata/data\n",
      "/gws/open/NYCOpenData/nycopendata/data/h9gi-nx95/1448475295/h9gi-nx95\n"
     ]
    }
   ],
   "source": [
    "from __future__ import division, print_function\n",
    "__author__ = 'Jianghao Zhu CUSP 2016'\n",
    "import pylab as pl\n",
    "import json\n",
    "import os\n",
    "import sys\n",
    "import numpy as np\n",
    "from numpy.random import randn\n",
    "\n",
    "from pandas import Series, DataFrame\n",
    "import pandas\n",
    "import pandas as pd\n",
    "PUIdata = os.getenv(\"PUIDATA\")\n",
    "print (PUIdata)\n",
    "dataDirect = os.getenv(\"DFDATA\")\n",
    "dataSource = dataDirect + \"/h9gi-nx95/1448475295/h9gi-nx95\"\n",
    "print (dataDirect)\n",
    "print (dataSource)"
   ]
  },
  {
   "cell_type": "code",
   "execution_count": 2,
   "metadata": {
    "collapsed": false
   },
   "outputs": [
    {
     "name": "stdout",
     "output_type": "stream",
     "text": [
      "Populating the interactive namespace from numpy and matplotlib\n"
     ]
    }
   ],
   "source": [
    "%pylab inline\n",
    "np.set_printoptions(precision=4, threshold=500)\n",
    "np.random.seed(456676)\n",
    "pl.rc('figure', figsize=(10, 6))\n",
    "pd.options.display.max_rows = 100"
   ]
  },
  {
   "cell_type": "code",
   "execution_count": null,
   "metadata": {
    "collapsed": false
   },
   "outputs": [],
   "source": [
    "#http://stackoverflow.com/questions/17465045/can-pandas-automatically-recognize-dates\n",
    "df_datetime = pd.read_csv(dataSource, parse_dates=[['DATE', 'TIME']])"
   ]
  },
  {
   "cell_type": "code",
   "execution_count": 7,
   "metadata": {
    "collapsed": false
   },
   "outputs": [
    {
     "data": {
      "text/html": [
       "<div>\n",
       "<table border=\"1\" class=\"dataframe\">\n",
       "  <thead>\n",
       "    <tr style=\"text-align: right;\">\n",
       "      <th></th>\n",
       "      <th>DATE_TIME</th>\n",
       "      <th>BOROUGH</th>\n",
       "      <th>ZIP CODE</th>\n",
       "      <th>LATITUDE</th>\n",
       "      <th>LONGITUDE</th>\n",
       "      <th>LOCATION</th>\n",
       "      <th>ON STREET NAME</th>\n",
       "      <th>CROSS STREET NAME</th>\n",
       "      <th>OFF STREET NAME</th>\n",
       "      <th>NUMBER OF PERSONS INJURED</th>\n",
       "      <th>...</th>\n",
       "      <th>CONTRIBUTING FACTOR VEHICLE 2</th>\n",
       "      <th>CONTRIBUTING FACTOR VEHICLE 3</th>\n",
       "      <th>CONTRIBUTING FACTOR VEHICLE 4</th>\n",
       "      <th>CONTRIBUTING FACTOR VEHICLE 5</th>\n",
       "      <th>UNIQUE KEY</th>\n",
       "      <th>VEHICLE TYPE CODE 1</th>\n",
       "      <th>VEHICLE TYPE CODE 2</th>\n",
       "      <th>VEHICLE TYPE CODE 3</th>\n",
       "      <th>VEHICLE TYPE CODE 4</th>\n",
       "      <th>VEHICLE TYPE CODE 5</th>\n",
       "    </tr>\n",
       "  </thead>\n",
       "  <tbody>\n",
       "    <tr>\n",
       "      <th>995</th>\n",
       "      <td>2015-11-21 17:30:00</td>\n",
       "      <td>NaN</td>\n",
       "      <td>NaN</td>\n",
       "      <td>NaN</td>\n",
       "      <td>NaN</td>\n",
       "      <td>NaN</td>\n",
       "      <td>EAST 135 STREET</td>\n",
       "      <td>3 AVENUE</td>\n",
       "      <td>NaN</td>\n",
       "      <td>0</td>\n",
       "      <td>...</td>\n",
       "      <td>Other Vehicular</td>\n",
       "      <td>NaN</td>\n",
       "      <td>NaN</td>\n",
       "      <td>NaN</td>\n",
       "      <td>3339348</td>\n",
       "      <td>PASSENGER VEHICLE</td>\n",
       "      <td>PASSENGER VEHICLE</td>\n",
       "      <td>NaN</td>\n",
       "      <td>NaN</td>\n",
       "      <td>NaN</td>\n",
       "    </tr>\n",
       "    <tr>\n",
       "      <th>996</th>\n",
       "      <td>2015-11-21 17:25:00</td>\n",
       "      <td>MANHATTAN</td>\n",
       "      <td>10001.0</td>\n",
       "      <td>40.749102</td>\n",
       "      <td>-73.992006</td>\n",
       "      <td>(40.7491025, -73.9920058)</td>\n",
       "      <td>WEST 31 STREET</td>\n",
       "      <td>7 AVENUE</td>\n",
       "      <td>NaN</td>\n",
       "      <td>0</td>\n",
       "      <td>...</td>\n",
       "      <td>Unspecified</td>\n",
       "      <td>NaN</td>\n",
       "      <td>NaN</td>\n",
       "      <td>NaN</td>\n",
       "      <td>3338663</td>\n",
       "      <td>PASSENGER VEHICLE</td>\n",
       "      <td>PASSENGER VEHICLE</td>\n",
       "      <td>NaN</td>\n",
       "      <td>NaN</td>\n",
       "      <td>NaN</td>\n",
       "    </tr>\n",
       "    <tr>\n",
       "      <th>997</th>\n",
       "      <td>2015-11-21 17:25:00</td>\n",
       "      <td>BRONX</td>\n",
       "      <td>10475.0</td>\n",
       "      <td>40.868771</td>\n",
       "      <td>-73.831733</td>\n",
       "      <td>(40.8687708, -73.8317333)</td>\n",
       "      <td>BARTOW AVENUE</td>\n",
       "      <td>BAYCHESTER AVENUE</td>\n",
       "      <td>NaN</td>\n",
       "      <td>0</td>\n",
       "      <td>...</td>\n",
       "      <td>Unspecified</td>\n",
       "      <td>NaN</td>\n",
       "      <td>NaN</td>\n",
       "      <td>NaN</td>\n",
       "      <td>3338796</td>\n",
       "      <td>SPORT UTILITY / STATION WAGON</td>\n",
       "      <td>SPORT UTILITY / STATION WAGON</td>\n",
       "      <td>NaN</td>\n",
       "      <td>NaN</td>\n",
       "      <td>NaN</td>\n",
       "    </tr>\n",
       "    <tr>\n",
       "      <th>998</th>\n",
       "      <td>2015-11-21 17:21:00</td>\n",
       "      <td>QUEENS</td>\n",
       "      <td>11103.0</td>\n",
       "      <td>40.766828</td>\n",
       "      <td>-73.909290</td>\n",
       "      <td>(40.7668283, -73.9092897)</td>\n",
       "      <td>25 AVENUE</td>\n",
       "      <td>43 STREET</td>\n",
       "      <td>NaN</td>\n",
       "      <td>0</td>\n",
       "      <td>...</td>\n",
       "      <td>Unspecified</td>\n",
       "      <td>NaN</td>\n",
       "      <td>NaN</td>\n",
       "      <td>NaN</td>\n",
       "      <td>3340335</td>\n",
       "      <td>SMALL COM VEH(4 TIRES)</td>\n",
       "      <td>LARGE COM VEH(6 OR MORE TIRES)</td>\n",
       "      <td>NaN</td>\n",
       "      <td>NaN</td>\n",
       "      <td>NaN</td>\n",
       "    </tr>\n",
       "    <tr>\n",
       "      <th>999</th>\n",
       "      <td>2015-11-21 17:21:00</td>\n",
       "      <td>BROOKLYN</td>\n",
       "      <td>11226.0</td>\n",
       "      <td>40.646811</td>\n",
       "      <td>-73.951060</td>\n",
       "      <td>(40.6468114, -73.9510598)</td>\n",
       "      <td>EAST 28 STREET</td>\n",
       "      <td>TILDEN AVENUE</td>\n",
       "      <td>NaN</td>\n",
       "      <td>0</td>\n",
       "      <td>...</td>\n",
       "      <td>Other Vehicular</td>\n",
       "      <td>NaN</td>\n",
       "      <td>NaN</td>\n",
       "      <td>NaN</td>\n",
       "      <td>3338882</td>\n",
       "      <td>SPORT UTILITY / STATION WAGON</td>\n",
       "      <td>PASSENGER VEHICLE</td>\n",
       "      <td>NaN</td>\n",
       "      <td>NaN</td>\n",
       "      <td>NaN</td>\n",
       "    </tr>\n",
       "  </tbody>\n",
       "</table>\n",
       "<p>5 rows × 28 columns</p>\n",
       "</div>"
      ],
      "text/plain": [
       "              DATE_TIME    BOROUGH  ZIP CODE   LATITUDE  LONGITUDE  \\\n",
       "995 2015-11-21 17:30:00        NaN       NaN        NaN        NaN   \n",
       "996 2015-11-21 17:25:00  MANHATTAN   10001.0  40.749102 -73.992006   \n",
       "997 2015-11-21 17:25:00      BRONX   10475.0  40.868771 -73.831733   \n",
       "998 2015-11-21 17:21:00     QUEENS   11103.0  40.766828 -73.909290   \n",
       "999 2015-11-21 17:21:00   BROOKLYN   11226.0  40.646811 -73.951060   \n",
       "\n",
       "                      LOCATION   ON STREET NAME  CROSS STREET NAME  \\\n",
       "995                        NaN  EAST 135 STREET           3 AVENUE   \n",
       "996  (40.7491025, -73.9920058)   WEST 31 STREET           7 AVENUE   \n",
       "997  (40.8687708, -73.8317333)    BARTOW AVENUE  BAYCHESTER AVENUE   \n",
       "998  (40.7668283, -73.9092897)        25 AVENUE          43 STREET   \n",
       "999  (40.6468114, -73.9510598)   EAST 28 STREET      TILDEN AVENUE   \n",
       "\n",
       "    OFF STREET NAME  NUMBER OF PERSONS INJURED         ...          \\\n",
       "995             NaN                          0         ...           \n",
       "996             NaN                          0         ...           \n",
       "997             NaN                          0         ...           \n",
       "998             NaN                          0         ...           \n",
       "999             NaN                          0         ...           \n",
       "\n",
       "     CONTRIBUTING FACTOR VEHICLE 2  CONTRIBUTING FACTOR VEHICLE 3  \\\n",
       "995                Other Vehicular                            NaN   \n",
       "996                    Unspecified                            NaN   \n",
       "997                    Unspecified                            NaN   \n",
       "998                    Unspecified                            NaN   \n",
       "999                Other Vehicular                            NaN   \n",
       "\n",
       "     CONTRIBUTING FACTOR VEHICLE 4  CONTRIBUTING FACTOR VEHICLE 5  UNIQUE KEY  \\\n",
       "995                            NaN                            NaN     3339348   \n",
       "996                            NaN                            NaN     3338663   \n",
       "997                            NaN                            NaN     3338796   \n",
       "998                            NaN                            NaN     3340335   \n",
       "999                            NaN                            NaN     3338882   \n",
       "\n",
       "               VEHICLE TYPE CODE 1             VEHICLE TYPE CODE 2  \\\n",
       "995              PASSENGER VEHICLE               PASSENGER VEHICLE   \n",
       "996              PASSENGER VEHICLE               PASSENGER VEHICLE   \n",
       "997  SPORT UTILITY / STATION WAGON   SPORT UTILITY / STATION WAGON   \n",
       "998         SMALL COM VEH(4 TIRES)  LARGE COM VEH(6 OR MORE TIRES)   \n",
       "999  SPORT UTILITY / STATION WAGON               PASSENGER VEHICLE   \n",
       "\n",
       "    VEHICLE TYPE CODE 3 VEHICLE TYPE CODE 4 VEHICLE TYPE CODE 5  \n",
       "995                 NaN                 NaN                 NaN  \n",
       "996                 NaN                 NaN                 NaN  \n",
       "997                 NaN                 NaN                 NaN  \n",
       "998                 NaN                 NaN                 NaN  \n",
       "999                 NaN                 NaN                 NaN  \n",
       "\n",
       "[5 rows x 28 columns]"
      ]
     },
     "execution_count": 7,
     "metadata": {},
     "output_type": "execute_result"
    }
   ],
   "source": [
    "df_datetime.tail(n=5)"
   ]
  },
  {
   "cell_type": "code",
   "execution_count": 5,
   "metadata": {
    "collapsed": false,
    "scrolled": true
   },
   "outputs": [
    {
     "data": {
      "text/html": [
       "<div>\n",
       "<table border=\"1\" class=\"dataframe\">\n",
       "  <thead>\n",
       "    <tr style=\"text-align: right;\">\n",
       "      <th></th>\n",
       "      <th>DATE_TIME</th>\n",
       "      <th>NUMBER OF PERSONS INJURED</th>\n",
       "    </tr>\n",
       "  </thead>\n",
       "  <tbody>\n",
       "    <tr>\n",
       "      <th>0</th>\n",
       "      <td>2015-11-22 14:13:00</td>\n",
       "      <td>1</td>\n",
       "    </tr>\n",
       "    <tr>\n",
       "      <th>1</th>\n",
       "      <td>2015-11-22 14:12:00</td>\n",
       "      <td>0</td>\n",
       "    </tr>\n",
       "    <tr>\n",
       "      <th>2</th>\n",
       "      <td>2015-11-22 14:10:00</td>\n",
       "      <td>0</td>\n",
       "    </tr>\n",
       "    <tr>\n",
       "      <th>3</th>\n",
       "      <td>2015-11-22 14:10:00</td>\n",
       "      <td>0</td>\n",
       "    </tr>\n",
       "    <tr>\n",
       "      <th>4</th>\n",
       "      <td>2015-11-22 06:40:00</td>\n",
       "      <td>0</td>\n",
       "    </tr>\n",
       "  </tbody>\n",
       "</table>\n",
       "</div>"
      ],
      "text/plain": [
       "            DATE_TIME  NUMBER OF PERSONS INJURED\n",
       "0 2015-11-22 14:13:00                          1\n",
       "1 2015-11-22 14:12:00                          0\n",
       "2 2015-11-22 14:10:00                          0\n",
       "3 2015-11-22 14:10:00                          0\n",
       "4 2015-11-22 06:40:00                          0"
      ]
     },
     "execution_count": 5,
     "metadata": {},
     "output_type": "execute_result"
    }
   ],
   "source": [
    "col_wDate=['DATE_TIME','NUMBER OF PERSONS INJURED'] \n",
    "df_Injuries = df_datetime[col_wDate]\n",
    "df_Injuries.head(n=5)"
   ]
  },
  {
   "cell_type": "code",
   "execution_count": 6,
   "metadata": {
    "collapsed": false
   },
   "outputs": [
    {
     "data": {
      "image/png": "[encoded data removed]",
      "text/plain": [
       "<matplotlib.figure.Figure at 0x7ffbb590d250>"
      ]
     },
     "metadata": {},
     "output_type": "display_data"
    }
   ],
   "source": [
    "ax2 = df_Injuries.plot(x='DATE_TIME', y='NUMBER OF PERSONS INJURED',\n",
    "                                   style='*', label='Injuries', rot=45)\n",
    "ax2.set_title('NY Number of Injures from Vehicle Incidents')\n",
    "ax2.set_ylabel('NUMBER OF INJURIES')\n",
    "\n",
    "plt.show()"
   ]
  },
  {
   "cell_type": "code",
   "execution_count": null,
   "metadata": {
    "collapsed": true
   },
   "outputs": [],
   "source": []
  }
 ],
 "metadata": {
  "kernelspec": {
   "display_name": "PUI2016_Python2",
   "language": "python",
   "name": "pui2016_python2"
  },
  "language_info": {
   "codemirror_mode": {
    "name": "ipython",
    "version": 2
   },
   "file_extension": ".py",
   "mimetype": "text/x-python",
   "name": "python",
   "nbconvert_exporter": "python",
   "pygments_lexer": "ipython2",
   "version": "2.7.12"
  }
 },
 "nbformat": 4,
 "nbformat_minor": 0
}
