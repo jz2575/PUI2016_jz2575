{
 "cells": [
  {
   "cell_type": "code",
   "execution_count": 1,
   "metadata": {
    "collapsed": false
   },
   "outputs": [],
   "source": [
    "import numpy as np\n",
    "from numpy import random\n",
    "from scipy import stats\n",
    "import matplotlib.pyplot as plt\n",
    "%matplotlib inline\n",
    "import pandas as pd\n",
    "import statsmodels.formula.api as smf\n",
    "import urllib2\n",
    "plt.style.use('ggplot')\n"
   ]
  },
  {
   "cell_type": "code",
   "execution_count": 2,
   "metadata": {
    "collapsed": false
   },
   "outputs": [],
   "source": [
    "data = pd.read_csv('countytable.csv', index_col=0 )"
   ]
  },
  {
   "cell_type": "code",
   "execution_count": 3,
   "metadata": {
    "collapsed": false,
    "scrolled": false
   },
   "outputs": [
    {
     "data": {
      "text/html": [
       "<div>\n",
       "<table border=\"1\" class=\"dataframe\">\n",
       "  <thead>\n",
       "    <tr style=\"text-align: right;\">\n",
       "      <th></th>\n",
       "      <th>trump</th>\n",
       "      <th>clinton</th>\n",
       "      <th>processed</th>\n",
       "      <th>area_name</th>\n",
       "      <th>state_abbreviation</th>\n",
       "      <th>PST045214</th>\n",
       "      <th>PST040210</th>\n",
       "      <th>PST120214</th>\n",
       "      <th>POP010210</th>\n",
       "      <th>AGE135214</th>\n",
       "      <th>...</th>\n",
       "      <th>SBO015207</th>\n",
       "      <th>MAN450207</th>\n",
       "      <th>WTN220207</th>\n",
       "      <th>RTN130207</th>\n",
       "      <th>RTN131207</th>\n",
       "      <th>AFN120207</th>\n",
       "      <th>BPS030214</th>\n",
       "      <th>LND110210</th>\n",
       "      <th>POP060210</th>\n",
       "      <th>trumpp</th>\n",
       "    </tr>\n",
       "    <tr>\n",
       "      <th>fips</th>\n",
       "      <th></th>\n",
       "      <th></th>\n",
       "      <th></th>\n",
       "      <th></th>\n",
       "      <th></th>\n",
       "      <th></th>\n",
       "      <th></th>\n",
       "      <th></th>\n",
       "      <th></th>\n",
       "      <th></th>\n",
       "      <th></th>\n",
       "      <th></th>\n",
       "      <th></th>\n",
       "      <th></th>\n",
       "      <th></th>\n",
       "      <th></th>\n",
       "      <th></th>\n",
       "      <th></th>\n",
       "      <th></th>\n",
       "      <th></th>\n",
       "      <th></th>\n",
       "    </tr>\n",
       "  </thead>\n",
       "  <tbody>\n",
       "    <tr>\n",
       "      <th>1001</th>\n",
       "      <td>18110</td>\n",
       "      <td>5908</td>\n",
       "      <td>100</td>\n",
       "      <td>Autauga County</td>\n",
       "      <td>AL</td>\n",
       "      <td>55395</td>\n",
       "      <td>54571</td>\n",
       "      <td>1.5</td>\n",
       "      <td>54571</td>\n",
       "      <td>6.0</td>\n",
       "      <td>...</td>\n",
       "      <td>31.7</td>\n",
       "      <td>0</td>\n",
       "      <td>0</td>\n",
       "      <td>598175</td>\n",
       "      <td>12003</td>\n",
       "      <td>88157</td>\n",
       "      <td>131</td>\n",
       "      <td>594.44</td>\n",
       "      <td>91.8</td>\n",
       "      <td>0.754018</td>\n",
       "    </tr>\n",
       "    <tr>\n",
       "      <th>1003</th>\n",
       "      <td>72780</td>\n",
       "      <td>18409</td>\n",
       "      <td>100</td>\n",
       "      <td>Baldwin County</td>\n",
       "      <td>AL</td>\n",
       "      <td>200111</td>\n",
       "      <td>182265</td>\n",
       "      <td>9.8</td>\n",
       "      <td>182265</td>\n",
       "      <td>5.6</td>\n",
       "      <td>...</td>\n",
       "      <td>27.3</td>\n",
       "      <td>1410273</td>\n",
       "      <td>0</td>\n",
       "      <td>2966489</td>\n",
       "      <td>17166</td>\n",
       "      <td>436955</td>\n",
       "      <td>1384</td>\n",
       "      <td>1589.78</td>\n",
       "      <td>114.6</td>\n",
       "      <td>0.798123</td>\n",
       "    </tr>\n",
       "    <tr>\n",
       "      <th>1005</th>\n",
       "      <td>5431</td>\n",
       "      <td>4848</td>\n",
       "      <td>100</td>\n",
       "      <td>Barbour County</td>\n",
       "      <td>AL</td>\n",
       "      <td>26887</td>\n",
       "      <td>27457</td>\n",
       "      <td>-2.1</td>\n",
       "      <td>27457</td>\n",
       "      <td>5.7</td>\n",
       "      <td>...</td>\n",
       "      <td>27.0</td>\n",
       "      <td>0</td>\n",
       "      <td>0</td>\n",
       "      <td>188337</td>\n",
       "      <td>6334</td>\n",
       "      <td>0</td>\n",
       "      <td>8</td>\n",
       "      <td>884.88</td>\n",
       "      <td>31.0</td>\n",
       "      <td>0.528359</td>\n",
       "    </tr>\n",
       "    <tr>\n",
       "      <th>1007</th>\n",
       "      <td>6733</td>\n",
       "      <td>1874</td>\n",
       "      <td>100</td>\n",
       "      <td>Bibb County</td>\n",
       "      <td>AL</td>\n",
       "      <td>22506</td>\n",
       "      <td>22919</td>\n",
       "      <td>-1.8</td>\n",
       "      <td>22915</td>\n",
       "      <td>5.3</td>\n",
       "      <td>...</td>\n",
       "      <td>0.0</td>\n",
       "      <td>0</td>\n",
       "      <td>0</td>\n",
       "      <td>124707</td>\n",
       "      <td>5804</td>\n",
       "      <td>10757</td>\n",
       "      <td>19</td>\n",
       "      <td>622.58</td>\n",
       "      <td>36.8</td>\n",
       "      <td>0.782270</td>\n",
       "    </tr>\n",
       "    <tr>\n",
       "      <th>1009</th>\n",
       "      <td>22808</td>\n",
       "      <td>2150</td>\n",
       "      <td>100</td>\n",
       "      <td>Blount County</td>\n",
       "      <td>AL</td>\n",
       "      <td>57719</td>\n",
       "      <td>57322</td>\n",
       "      <td>0.7</td>\n",
       "      <td>57322</td>\n",
       "      <td>6.1</td>\n",
       "      <td>...</td>\n",
       "      <td>23.2</td>\n",
       "      <td>341544</td>\n",
       "      <td>0</td>\n",
       "      <td>319700</td>\n",
       "      <td>5622</td>\n",
       "      <td>20941</td>\n",
       "      <td>3</td>\n",
       "      <td>644.78</td>\n",
       "      <td>88.9</td>\n",
       "      <td>0.913855</td>\n",
       "    </tr>\n",
       "  </tbody>\n",
       "</table>\n",
       "<p>5 rows × 57 columns</p>\n",
       "</div>"
      ],
      "text/plain": [
       "      trump  clinton  processed       area_name state_abbreviation  PST045214  \\\n",
       "fips                                                                            \n",
       "1001  18110     5908        100  Autauga County                 AL      55395   \n",
       "1003  72780    18409        100  Baldwin County                 AL     200111   \n",
       "1005   5431     4848        100  Barbour County                 AL      26887   \n",
       "1007   6733     1874        100     Bibb County                 AL      22506   \n",
       "1009  22808     2150        100   Blount County                 AL      57719   \n",
       "\n",
       "      PST040210  PST120214  POP010210  AGE135214    ...     SBO015207  \\\n",
       "fips                                                ...                 \n",
       "1001      54571        1.5      54571        6.0    ...          31.7   \n",
       "1003     182265        9.8     182265        5.6    ...          27.3   \n",
       "1005      27457       -2.1      27457        5.7    ...          27.0   \n",
       "1007      22919       -1.8      22915        5.3    ...           0.0   \n",
       "1009      57322        0.7      57322        6.1    ...          23.2   \n",
       "\n",
       "      MAN450207  WTN220207  RTN130207  RTN131207  AFN120207  BPS030214  \\\n",
       "fips                                                                     \n",
       "1001          0          0     598175      12003      88157        131   \n",
       "1003    1410273          0    2966489      17166     436955       1384   \n",
       "1005          0          0     188337       6334          0          8   \n",
       "1007          0          0     124707       5804      10757         19   \n",
       "1009     341544          0     319700       5622      20941          3   \n",
       "\n",
       "      LND110210  POP060210    trumpp  \n",
       "fips                                  \n",
       "1001     594.44       91.8  0.754018  \n",
       "1003    1589.78      114.6  0.798123  \n",
       "1005     884.88       31.0  0.528359  \n",
       "1007     622.58       36.8  0.782270  \n",
       "1009     644.78       88.9  0.913855  \n",
       "\n",
       "[5 rows x 57 columns]"
      ]
     },
     "execution_count": 3,
     "metadata": {},
     "output_type": "execute_result"
    }
   ],
   "source": [
    "data.head()"
   ]
  },
  {
   "cell_type": "code",
   "execution_count": 4,
   "metadata": {
    "collapsed": false
   },
   "outputs": [
    {
     "data": {
      "text/plain": [
       "fips\n",
       "1001     13.8\n",
       "1003     18.7\n",
       "1005     16.5\n",
       "1007     14.8\n",
       "1009     17.0\n",
       "1011     14.9\n",
       "1013     18.0\n",
       "1015     16.0\n",
       "1017     18.3\n",
       "1019     20.9\n",
       "1021     15.2\n",
       "1023     20.8\n",
       "1025     18.0\n",
       "1027     19.4\n",
       "1029     18.4\n",
       "1031     15.9\n",
       "1033     18.5\n",
       "1035     20.4\n",
       "1037     18.5\n",
       "1039     19.8\n",
       "1041     18.0\n",
       "1043     17.6\n",
       "1045     15.4\n",
       "1047     15.6\n",
       "1049     15.7\n",
       "1051     14.0\n",
       "1053     16.7\n",
       "1055     17.3\n",
       "1057     19.6\n",
       "1059     15.9\n",
       "         ... \n",
       "54051    19.6\n",
       "54053    18.8\n",
       "54055    19.3\n",
       "54057    19.9\n",
       "54059    15.5\n",
       "54061    10.8\n",
       "54063    22.4\n",
       "54065    20.9\n",
       "54067    19.2\n",
       "54069    19.5\n",
       "54071    24.6\n",
       "54073    18.3\n",
       "54075    22.4\n",
       "54077    17.4\n",
       "54079    16.6\n",
       "54081    18.2\n",
       "54083    20.0\n",
       "54085    20.1\n",
       "54087    19.3\n",
       "54089    21.1\n",
       "54091    17.8\n",
       "54093    22.7\n",
       "54095    20.2\n",
       "54097    18.2\n",
       "54099    18.4\n",
       "54101    21.5\n",
       "54103    21.4\n",
       "54105    18.4\n",
       "54107    18.6\n",
       "54109    17.5\n",
       "Name: AGE775214, dtype: float64"
      ]
     },
     "execution_count": 4,
     "metadata": {},
     "output_type": "execute_result"
    }
   ],
   "source": [
    "data.AGE775214"
   ]
  },
  {
   "cell_type": "code",
   "execution_count": 5,
   "metadata": {
    "collapsed": false
   },
   "outputs": [],
   "source": [
    "data.rename(columns={'PST045214': 'Population'}, inplace=True)"
   ]
  },
  {
   "cell_type": "code",
   "execution_count": 6,
   "metadata": {
    "collapsed": true
   },
   "outputs": [],
   "source": [
    "data.rename(columns={'AGE295214': 'Population18'}, inplace=True)"
   ]
  },
  {
   "cell_type": "code",
   "execution_count": 7,
   "metadata": {
    "collapsed": true
   },
   "outputs": [],
   "source": [
    "data.rename(columns={'AGE775214': 'Population65'}, inplace=True)"
   ]
  },
  {
   "cell_type": "code",
   "execution_count": 8,
   "metadata": {
    "collapsed": true
   },
   "outputs": [],
   "source": [
    "data.rename(columns={'Population65': 'Senior'}, inplace=True)"
   ]
  },
  {
   "cell_type": "code",
   "execution_count": 9,
   "metadata": {
    "collapsed": true
   },
   "outputs": [],
   "source": [
    "data.rename(columns={'SEX255214': 'Female'}, inplace=True)"
   ]
  },
  {
   "cell_type": "code",
   "execution_count": 10,
   "metadata": {
    "collapsed": true
   },
   "outputs": [],
   "source": [
    "data.rename(columns={'RHI125214': 'White'}, inplace=True)"
   ]
  },
  {
   "cell_type": "code",
   "execution_count": 11,
   "metadata": {
    "collapsed": true
   },
   "outputs": [],
   "source": [
    "data.rename(columns={'RHI225214': 'Black'}, inplace=True)"
   ]
  },
  {
   "cell_type": "code",
   "execution_count": 12,
   "metadata": {
    "collapsed": true
   },
   "outputs": [],
   "source": [
    "data.rename(columns={'RHI425214': 'Asian'}, inplace=True)"
   ]
  },
  {
   "cell_type": "code",
   "execution_count": 13,
   "metadata": {
    "collapsed": true
   },
   "outputs": [],
   "source": [
    "data.rename(columns={'POP645213': 'Foreign'}, inplace=True)"
   ]
  },
  {
   "cell_type": "code",
   "execution_count": 14,
   "metadata": {
    "collapsed": true
   },
   "outputs": [],
   "source": [
    "data.rename(columns={'EDU685213': 'Bachelor'}, inplace=True)"
   ]
  },
  {
   "cell_type": "code",
   "execution_count": 15,
   "metadata": {
    "collapsed": true
   },
   "outputs": [],
   "source": [
    "data.rename(columns={'RHI725214': 'Latino'}, inplace=True)"
   ]
  },
  {
   "cell_type": "code",
   "execution_count": 16,
   "metadata": {
    "collapsed": true
   },
   "outputs": [],
   "source": [
    "data.rename(columns={'RHI625214': 'Mixed'}, inplace=True)"
   ]
  },
  {
   "cell_type": "code",
   "execution_count": 17,
   "metadata": {
    "collapsed": true
   },
   "outputs": [],
   "source": [
    "data.rename(columns={'RHI825214': 'WhiteNH'}, inplace=True)"
   ]
  },
  {
   "cell_type": "code",
   "execution_count": 18,
   "metadata": {
    "collapsed": true
   },
   "outputs": [],
   "source": [
    "data.rename(columns={'POP060210': 'Density'}, inplace=True)"
   ]
  },
  {
   "cell_type": "code",
   "execution_count": 19,
   "metadata": {
    "collapsed": true
   },
   "outputs": [],
   "source": [
    "data.rename(columns={'HSG445213': 'HomeOwners'}, inplace=True)"
   ]
  },
  {
   "cell_type": "code",
   "execution_count": 20,
   "metadata": {
    "collapsed": true
   },
   "outputs": [],
   "source": [
    "data.rename(columns={'INC910213': 'Income'}, inplace=True)"
   ]
  },
  {
   "cell_type": "code",
   "execution_count": 21,
   "metadata": {
    "collapsed": false
   },
   "outputs": [
    {
     "data": {
      "text/plain": [
       "Index([u'trump', u'clinton', u'processed', u'area_name', u'state_abbreviation',\n",
       "       u'Population', u'PST040210', u'PST120214', u'POP010210', u'AGE135214',\n",
       "       u'Population18', u'Senior', u'Female', u'White', u'Black', u'RHI325214',\n",
       "       u'Asian', u'RHI525214', u'Mixed', u'Latino', u'WhiteNH', u'POP715213',\n",
       "       u'Foreign', u'POP815213', u'EDU635213', u'Bachelor', u'VET605213',\n",
       "       u'LFE305213', u'HSG010214', u'HomeOwners', u'HSG096213', u'HSG495213',\n",
       "       u'HSD410213', u'HSD310213', u'Income', u'INC110213', u'PVY020213',\n",
       "       u'BZA010213', u'BZA110213', u'BZA115213', u'NES010213', u'SBO001207',\n",
       "       u'SBO315207', u'SBO115207', u'SBO215207', u'SBO515207', u'SBO415207',\n",
       "       u'SBO015207', u'MAN450207', u'WTN220207', u'RTN130207', u'RTN131207',\n",
       "       u'AFN120207', u'BPS030214', u'LND110210', u'Density', u'trumpp'],\n",
       "      dtype='object')"
      ]
     },
     "execution_count": 21,
     "metadata": {},
     "output_type": "execute_result"
    }
   ],
   "source": [
    "data.columns"
   ]
  },
  {
   "cell_type": "code",
   "execution_count": 22,
   "metadata": {
    "collapsed": false
   },
   "outputs": [],
   "source": [
    "# data['Bachelor']"
   ]
  },
  {
   "cell_type": "code",
   "execution_count": 23,
   "metadata": {
    "collapsed": false
   },
   "outputs": [
    {
     "data": {
      "text/plain": [
       "array(['AL', 'AZ', 'AR', 'CA', 'CO', 'FL', 'GA', 'HI', 'ID', 'IL', 'IN',\n",
       "       'KS', 'KY', 'LA', 'ME', 'MD', 'MI', 'MN', 'MO', 'MT', 'NE', 'NJ',\n",
       "       'NM', 'NY', 'NC', 'ND', 'OH', 'OK', 'OR', 'SC', 'SD', 'TN', 'TX',\n",
       "       'UT', 'VA', 'WA', 'WV'], dtype=object)"
      ]
     },
     "execution_count": 23,
     "metadata": {},
     "output_type": "execute_result"
    }
   ],
   "source": [
    "data.state_abbreviation.unique()"
   ]
  },
  {
   "cell_type": "code",
   "execution_count": 24,
   "metadata": {
    "collapsed": true
   },
   "outputs": [],
   "source": [
    "#  NH CT RI MA VT C"
   ]
  },
  {
   "cell_type": "code",
   "execution_count": 25,
   "metadata": {
    "collapsed": false
   },
   "outputs": [],
   "source": [
    "data['TElectorate']=data.Population*(1-data.Population18/100)\n",
    "data['TFemale']=data.TElectorate*data.Female/100\n",
    "data['TSeniors']=data.TElectorate*data.Senior/100\n",
    "data['TWhite']=data.TElectorate*data.WhiteNH/100\n",
    "data['TBlack']=data.TElectorate*data.Black/100\n",
    "data['TLatino']=data.TElectorate*data.Latino/100\n",
    "data['TAsian']=data.TElectorate*data.Asian/100\n",
    "data['TIncome']=data.Population*data.Income/100\n",
    "data['TBachelor']=data.Population*data.Bachelor/100\n",
    "data['TArea']=data.LND110210\n",
    "data['TRacialDiversity'] = data.TElectorate*(1-data.WhiteNH/100)\n",
    "#Racial Diversity is defined as the percentage of nonwhite voters\n",
    "data['TForeign'] = data.TElectorate*data.Foreign/100"
   ]
  },
  {
   "cell_type": "code",
   "execution_count": 26,
   "metadata": {
    "collapsed": false
   },
   "outputs": [],
   "source": [
    "data['SElectorate']=data['TElectorate']**0.5\n",
    "data['SFemale']=data.SElectorate*data.Female/100\n",
    "data['SSeniors']=data.SElectorate*data.Senior/100\n",
    "data['SWhite']=data.SElectorate*data.WhiteNH/100\n",
    "data['SBlack']=data.SElectorate*data.Black/100\n",
    "data['SLatino']=data.SElectorate*data.Latino/100\n",
    "data['SAsian']=data.SElectorate*data.Asian/100\n",
    "data['SIncome']=data['TIncome']/data.SElectorate\n",
    "data['SBachelor']=data['TBachelor']/data.SElectorate\n",
    "data['SRacialDiversity'] = data.SElectorate*(1-data.WhiteNH/100)\n",
    "#Squaring Racial Diversity Varaible \n",
    "data['SForeign'] = data.SElectorate*data.Foreign/100"
   ]
  },
  {
   "cell_type": "code",
   "execution_count": 27,
   "metadata": {
    "collapsed": false
   },
   "outputs": [],
   "source": [
    "data['TDensity']=np.log(data.Density)*data.TElectorate\n",
    "data['TSize']=np.log(data.Population)*data.TElectorate"
   ]
  },
  {
   "cell_type": "code",
   "execution_count": 28,
   "metadata": {
    "collapsed": false
   },
   "outputs": [],
   "source": [
    "data['SDensity']=np.log(data.Density)*data.SElectorate\n",
    "data['SSize']=np.log(data.Population)*data.SElectorate"
   ]
  },
  {
   "cell_type": "code",
   "execution_count": 29,
   "metadata": {
    "collapsed": true
   },
   "outputs": [],
   "source": [
    "data['Strump']=data.trump/data.SElectorate\n",
    "data['Sclinton']=data.clinton/data.SElectorate"
   ]
  },
  {
   "cell_type": "code",
   "execution_count": 30,
   "metadata": {
    "collapsed": false,
    "scrolled": true
   },
   "outputs": [
    {
     "data": {
      "text/html": [
       "<div>\n",
       "<table border=\"1\" class=\"dataframe\">\n",
       "  <thead>\n",
       "    <tr style=\"text-align: right;\">\n",
       "      <th></th>\n",
       "      <th>trump</th>\n",
       "      <th>clinton</th>\n",
       "      <th>processed</th>\n",
       "      <th>area_name</th>\n",
       "      <th>state_abbreviation</th>\n",
       "      <th>Population</th>\n",
       "      <th>PST040210</th>\n",
       "      <th>PST120214</th>\n",
       "      <th>POP010210</th>\n",
       "      <th>AGE135214</th>\n",
       "      <th>...</th>\n",
       "      <th>SIncome</th>\n",
       "      <th>SBachelor</th>\n",
       "      <th>SRacialDiversity</th>\n",
       "      <th>SForeign</th>\n",
       "      <th>TDensity</th>\n",
       "      <th>TSize</th>\n",
       "      <th>SDensity</th>\n",
       "      <th>SSize</th>\n",
       "      <th>Strump</th>\n",
       "      <th>Sclinton</th>\n",
       "    </tr>\n",
       "    <tr>\n",
       "      <th>fips</th>\n",
       "      <th></th>\n",
       "      <th></th>\n",
       "      <th></th>\n",
       "      <th></th>\n",
       "      <th></th>\n",
       "      <th></th>\n",
       "      <th></th>\n",
       "      <th></th>\n",
       "      <th></th>\n",
       "      <th></th>\n",
       "      <th></th>\n",
       "      <th></th>\n",
       "      <th></th>\n",
       "      <th></th>\n",
       "      <th></th>\n",
       "      <th></th>\n",
       "      <th></th>\n",
       "      <th></th>\n",
       "      <th></th>\n",
       "      <th></th>\n",
       "      <th></th>\n",
       "    </tr>\n",
       "  </thead>\n",
       "  <tbody>\n",
       "    <tr>\n",
       "      <th>1001</th>\n",
       "      <td>18110</td>\n",
       "      <td>5908</td>\n",
       "      <td>100</td>\n",
       "      <td>Autauga County</td>\n",
       "      <td>AL</td>\n",
       "      <td>55395</td>\n",
       "      <td>54571</td>\n",
       "      <td>1.5</td>\n",
       "      <td>54571</td>\n",
       "      <td>6.0</td>\n",
       "      <td>...</td>\n",
       "      <td>66866.303674</td>\n",
       "      <td>56.876226</td>\n",
       "      <td>49.667913</td>\n",
       "      <td>3.256912</td>\n",
       "      <td>187272.214574</td>\n",
       "      <td>4.525682e+05</td>\n",
       "      <td>919.998807</td>\n",
       "      <td>2223.299555</td>\n",
       "      <td>88.967701</td>\n",
       "      <td>29.023809</td>\n",
       "    </tr>\n",
       "    <tr>\n",
       "      <th>1003</th>\n",
       "      <td>72780</td>\n",
       "      <td>18409</td>\n",
       "      <td>100</td>\n",
       "      <td>Baldwin County</td>\n",
       "      <td>AL</td>\n",
       "      <td>200111</td>\n",
       "      <td>182265</td>\n",
       "      <td>9.8</td>\n",
       "      <td>182265</td>\n",
       "      <td>5.6</td>\n",
       "      <td>...</td>\n",
       "      <td>135746.661102</td>\n",
       "      <td>140.483543</td>\n",
       "      <td>67.077088</td>\n",
       "      <td>14.204560</td>\n",
       "      <td>738178.740296</td>\n",
       "      <td>1.900405e+06</td>\n",
       "      <td>1870.838306</td>\n",
       "      <td>4816.382515</td>\n",
       "      <td>184.453445</td>\n",
       "      <td>46.655722</td>\n",
       "    </tr>\n",
       "    <tr>\n",
       "      <th>1005</th>\n",
       "      <td>5431</td>\n",
       "      <td>4848</td>\n",
       "      <td>100</td>\n",
       "      <td>Barbour County</td>\n",
       "      <td>AL</td>\n",
       "      <td>26887</td>\n",
       "      <td>27457</td>\n",
       "      <td>-2.1</td>\n",
       "      <td>27457</td>\n",
       "      <td>5.7</td>\n",
       "      <td>...</td>\n",
       "      <td>31086.109701</td>\n",
       "      <td>24.752146</td>\n",
       "      <td>77.727650</td>\n",
       "      <td>4.221165</td>\n",
       "      <td>72755.735806</td>\n",
       "      <td>2.160942e+05</td>\n",
       "      <td>499.842241</td>\n",
       "      <td>1484.597856</td>\n",
       "      <td>37.311742</td>\n",
       "      <td>33.306449</td>\n",
       "    </tr>\n",
       "    <tr>\n",
       "      <th>1007</th>\n",
       "      <td>6733</td>\n",
       "      <td>1874</td>\n",
       "      <td>100</td>\n",
       "      <td>Bibb County</td>\n",
       "      <td>AL</td>\n",
       "      <td>22506</td>\n",
       "      <td>22919</td>\n",
       "      <td>-1.8</td>\n",
       "      <td>22915</td>\n",
       "      <td>5.3</td>\n",
       "      <td>...</td>\n",
       "      <td>29414.281394</td>\n",
       "      <td>20.423068</td>\n",
       "      <td>34.001876</td>\n",
       "      <td>1.600088</td>\n",
       "      <td>64104.814258</td>\n",
       "      <td>1.781803e+05</td>\n",
       "      <td>480.759576</td>\n",
       "      <td>1336.278702</td>\n",
       "      <td>50.494713</td>\n",
       "      <td>14.054224</td>\n",
       "    </tr>\n",
       "    <tr>\n",
       "      <th>1009</th>\n",
       "      <td>22808</td>\n",
       "      <td>2150</td>\n",
       "      <td>100</td>\n",
       "      <td>Blount County</td>\n",
       "      <td>AL</td>\n",
       "      <td>57719</td>\n",
       "      <td>57322</td>\n",
       "      <td>0.7</td>\n",
       "      <td>57322</td>\n",
       "      <td>6.1</td>\n",
       "      <td>...</td>\n",
       "      <td>56978.632505</td>\n",
       "      <td>33.258150</td>\n",
       "      <td>25.619220</td>\n",
       "      <td>9.029725</td>\n",
       "      <td>197887.241003</td>\n",
       "      <td>4.834539e+05</td>\n",
       "      <td>942.348872</td>\n",
       "      <td>2302.231692</td>\n",
       "      <td>108.612829</td>\n",
       "      <td>10.238407</td>\n",
       "    </tr>\n",
       "  </tbody>\n",
       "</table>\n",
       "<p>5 rows × 86 columns</p>\n",
       "</div>"
      ],
      "text/plain": [
       "      trump  clinton  processed       area_name state_abbreviation  \\\n",
       "fips                                                                 \n",
       "1001  18110     5908        100  Autauga County                 AL   \n",
       "1003  72780    18409        100  Baldwin County                 AL   \n",
       "1005   5431     4848        100  Barbour County                 AL   \n",
       "1007   6733     1874        100     Bibb County                 AL   \n",
       "1009  22808     2150        100   Blount County                 AL   \n",
       "\n",
       "      Population  PST040210  PST120214  POP010210  AGE135214    ...      \\\n",
       "fips                                                            ...       \n",
       "1001       55395      54571        1.5      54571        6.0    ...       \n",
       "1003      200111     182265        9.8     182265        5.6    ...       \n",
       "1005       26887      27457       -2.1      27457        5.7    ...       \n",
       "1007       22506      22919       -1.8      22915        5.3    ...       \n",
       "1009       57719      57322        0.7      57322        6.1    ...       \n",
       "\n",
       "            SIncome   SBachelor  SRacialDiversity   SForeign       TDensity  \\\n",
       "fips                                                                          \n",
       "1001   66866.303674   56.876226         49.667913   3.256912  187272.214574   \n",
       "1003  135746.661102  140.483543         67.077088  14.204560  738178.740296   \n",
       "1005   31086.109701   24.752146         77.727650   4.221165   72755.735806   \n",
       "1007   29414.281394   20.423068         34.001876   1.600088   64104.814258   \n",
       "1009   56978.632505   33.258150         25.619220   9.029725  197887.241003   \n",
       "\n",
       "             TSize     SDensity        SSize      Strump   Sclinton  \n",
       "fips                                                                 \n",
       "1001  4.525682e+05   919.998807  2223.299555   88.967701  29.023809  \n",
       "1003  1.900405e+06  1870.838306  4816.382515  184.453445  46.655722  \n",
       "1005  2.160942e+05   499.842241  1484.597856   37.311742  33.306449  \n",
       "1007  1.781803e+05   480.759576  1336.278702   50.494713  14.054224  \n",
       "1009  4.834539e+05   942.348872  2302.231692  108.612829  10.238407  \n",
       "\n",
       "[5 rows x 86 columns]"
      ]
     },
     "execution_count": 30,
     "metadata": {},
     "output_type": "execute_result"
    }
   ],
   "source": [
    "data.head()"
   ]
  },
  {
   "cell_type": "code",
   "execution_count": 31,
   "metadata": {
    "collapsed": false
   },
   "outputs": [
    {
     "data": {
      "text/plain": [
       "Index([u'trump', u'clinton', u'processed', u'area_name', u'state_abbreviation',\n",
       "       u'Population', u'PST040210', u'PST120214', u'POP010210', u'AGE135214',\n",
       "       u'Population18', u'Senior', u'Female', u'White', u'Black', u'RHI325214',\n",
       "       u'Asian', u'RHI525214', u'Mixed', u'Latino', u'WhiteNH', u'POP715213',\n",
       "       u'Foreign', u'POP815213', u'EDU635213', u'Bachelor', u'VET605213',\n",
       "       u'LFE305213', u'HSG010214', u'HomeOwners', u'HSG096213', u'HSG495213',\n",
       "       u'HSD410213', u'HSD310213', u'Income', u'INC110213', u'PVY020213',\n",
       "       u'BZA010213', u'BZA110213', u'BZA115213', u'NES010213', u'SBO001207',\n",
       "       u'SBO315207', u'SBO115207', u'SBO215207', u'SBO515207', u'SBO415207',\n",
       "       u'SBO015207', u'MAN450207', u'WTN220207', u'RTN130207', u'RTN131207',\n",
       "       u'AFN120207', u'BPS030214', u'LND110210', u'Density', u'trumpp',\n",
       "       u'TElectorate', u'TFemale', u'TSeniors', u'TWhite', u'TBlack',\n",
       "       u'TLatino', u'TAsian', u'TIncome', u'TBachelor', u'TArea',\n",
       "       u'TRacialDiversity', u'TForeign', u'SElectorate', u'SFemale',\n",
       "       u'SSeniors', u'SWhite', u'SBlack', u'SLatino', u'SAsian', u'SIncome',\n",
       "       u'SBachelor', u'SRacialDiversity', u'SForeign', u'TDensity', u'TSize',\n",
       "       u'SDensity', u'SSize', u'Strump', u'Sclinton'],\n",
       "      dtype='object')"
      ]
     },
     "execution_count": 31,
     "metadata": {},
     "output_type": "execute_result"
    }
   ],
   "source": [
    "data.columns"
   ]
  },
  {
   "cell_type": "code",
   "execution_count": 32,
   "metadata": {
    "collapsed": true
   },
   "outputs": [],
   "source": [
    "lm0 = smf.ols(formula='Strump ~ SElectorate -1', data = data).fit()"
   ]
  },
  {
   "cell_type": "code",
   "execution_count": 33,
   "metadata": {
    "collapsed": false
   },
   "outputs": [
    {
     "data": {
      "text/plain": [
       "0.8902122532409068"
      ]
     },
     "execution_count": 33,
     "metadata": {},
     "output_type": "execute_result"
    }
   ],
   "source": [
    "lm0.rsquared"
   ]
  },
  {
   "cell_type": "code",
   "execution_count": 34,
   "metadata": {
    "collapsed": false
   },
   "outputs": [],
   "source": [
    "def singleFactorAnalysis(factor):\n",
    "    lmT0 = smf.ols(formula='Strump ~ SElectorate -1', data = data).fit()\n",
    "    lmC0 = smf.ols(formula='Sclinton ~ SElectorate -1', data = data).fit()\n",
    "    lmT = smf.ols(formula='Strump ~ SElectorate + ' + factor +' -1', data = data).fit()\n",
    "    lmC = smf.ols(formula='Sclinton ~ SElectorate + ' + factor +' -1', data = data).fit()\n",
    "    R2T=1-(1-lmT.rsquared)/(1-lmT0.rsquared)\n",
    "    R2C=1-(1-lmC.rsquared)/(1-lmC0.rsquared)\n",
    "    return [R2T, R2C]"
   ]
  },
  {
   "cell_type": "code",
   "execution_count": 35,
   "metadata": {
    "collapsed": false
   },
   "outputs": [
    {
     "data": {
      "text/plain": [
       "[0.22931754177733599, 0.034002251671160888]"
      ]
     },
     "execution_count": 35,
     "metadata": {},
     "output_type": "execute_result"
    }
   ],
   "source": [
    "singleFactorAnalysis('SWhite')"
   ]
  },
  {
   "cell_type": "code",
   "execution_count": 36,
   "metadata": {
    "collapsed": false
   },
   "outputs": [
    {
     "data": {
      "text/plain": [
       "[0.011336077696619817, 0.078504171653229871]"
      ]
     },
     "execution_count": 36,
     "metadata": {},
     "output_type": "execute_result"
    }
   ],
   "source": [
    "singleFactorAnalysis('SBlack')"
   ]
  },
  {
   "cell_type": "code",
   "execution_count": 37,
   "metadata": {
    "collapsed": false
   },
   "outputs": [
    {
     "data": {
      "text/plain": [
       "[0.21472458532444216, 0.081301351016036305]"
      ]
     },
     "execution_count": 37,
     "metadata": {},
     "output_type": "execute_result"
    }
   ],
   "source": [
    "singleFactorAnalysis('SLatino')"
   ]
  },
  {
   "cell_type": "code",
   "execution_count": 38,
   "metadata": {
    "collapsed": false
   },
   "outputs": [
    {
     "data": {
      "text/plain": [
       "[0.13552314515697672, 0.0076372366252546176]"
      ]
     },
     "execution_count": 38,
     "metadata": {},
     "output_type": "execute_result"
    }
   ],
   "source": [
    "singleFactorAnalysis('SSize')"
   ]
  },
  {
   "cell_type": "code",
   "execution_count": 39,
   "metadata": {
    "collapsed": false
   },
   "outputs": [
    {
     "data": {
      "text/plain": [
       "[0.0014275605127226365, 0.052320513253841905]"
      ]
     },
     "execution_count": 39,
     "metadata": {},
     "output_type": "execute_result"
    }
   ],
   "source": [
    "singleFactorAnalysis('SFemale')"
   ]
  },
  {
   "cell_type": "code",
   "execution_count": 40,
   "metadata": {
    "collapsed": false
   },
   "outputs": [
    {
     "data": {
      "text/plain": [
       "[0.091021663849851331, 0.0072777884350281319]"
      ]
     },
     "execution_count": 40,
     "metadata": {},
     "output_type": "execute_result"
    }
   ],
   "source": [
    "singleFactorAnalysis('SSeniors')"
   ]
  },
  {
   "cell_type": "code",
   "execution_count": 41,
   "metadata": {
    "collapsed": false
   },
   "outputs": [
    {
     "data": {
      "text/plain": [
       "[0.011019157485152253, 0.0033128042567523996]"
      ]
     },
     "execution_count": 41,
     "metadata": {},
     "output_type": "execute_result"
    }
   ],
   "source": [
    "singleFactorAnalysis('SIncome')"
   ]
  },
  {
   "cell_type": "code",
   "execution_count": 42,
   "metadata": {
    "collapsed": false
   },
   "outputs": [
    {
     "data": {
      "text/plain": [
       "[0.00044924324338657673, 0.016497196366543787]"
      ]
     },
     "execution_count": 42,
     "metadata": {},
     "output_type": "execute_result"
    }
   ],
   "source": [
    "singleFactorAnalysis('SBachelor')"
   ]
  },
  {
   "cell_type": "code",
   "execution_count": 43,
   "metadata": {
    "collapsed": false
   },
   "outputs": [
    {
     "data": {
      "text/plain": [
       "[0.023504482051504572, 0.00014452966271072398]"
      ]
     },
     "execution_count": 43,
     "metadata": {},
     "output_type": "execute_result"
    }
   ],
   "source": [
    "singleFactorAnalysis('SDensity')"
   ]
  },
  {
   "cell_type": "code",
   "execution_count": 44,
   "metadata": {
    "collapsed": false
   },
   "outputs": [
    {
     "data": {
      "text/plain": [
       "[0.22931754177733599, 0.034002251671160888]"
      ]
     },
     "execution_count": 44,
     "metadata": {},
     "output_type": "execute_result"
    }
   ],
   "source": [
    "singleFactorAnalysis('SRacialDiversity')"
   ]
  },
  {
   "cell_type": "code",
   "execution_count": 45,
   "metadata": {
    "collapsed": false,
    "scrolled": true
   },
   "outputs": [
    {
     "data": {
      "text/plain": [
       "[0.11202994363499064, 0.089443540280229494]"
      ]
     },
     "execution_count": 45,
     "metadata": {},
     "output_type": "execute_result"
    }
   ],
   "source": [
    "singleFactorAnalysis('SForeign')"
   ]
  },
  {
   "cell_type": "code",
   "execution_count": 46,
   "metadata": {
    "collapsed": false
   },
   "outputs": [],
   "source": [
    "# lmT0 = smf.ols(formula='Strump ~ SElectorate -1', data = data).fit()\n",
    "# lmT = smf.ols(formula='Strump ~ SElectorate + SFemale + SWhite + SBlack + SLatino + SIncome + data.SBachelor + data.SSeniors + data.SDensity + data.SSize-1', data = data).fit()\n",
    "# R2T=1-(1-lmT.rsquared)/(1-lm0.rsquared)\n",
    "# lmC0 = smf.ols(formula='Sclinton ~ SElectorate -1', data = data).fit()\n",
    "# lmC = smf.ols(formula='Sclinton ~ SElectorate + SFemale + SWhite + SBlack + SLatino + SIncome + data.SBachelor + data.SSeniors + data.SDensity + data.SSize-1', data = data).fit()\n",
    "# R2C=1-(1-lmC.rsquared)/(1-lmC0.rsquared)\n",
    "# print [R2T, R2C]"
   ]
  },
  {
   "cell_type": "code",
   "execution_count": 47,
   "metadata": {
    "collapsed": false
   },
   "outputs": [
    {
     "name": "stdout",
     "output_type": "stream",
     "text": [
      "[-0.54621717362776279, -0.35751901837303546]\n"
     ]
    }
   ],
   "source": [
    "lmT0 = smf.ols(formula='Strump ~ SElectorate -1', data = data).fit()\n",
    "lmT1 = smf.ols(formula='Strump ~ SElectorate + SIncome + SBachelor + SDensity + SRacialDiversity + SForeign', data=data).fit()\n",
    "R2T=1-(1-lmT1.rsquared)/(1-lm0.rsquared)\n",
    "lmC0 = smf.ols(formula='Sclinton ~ SElectorate -1', data = data).fit()\n",
    "lmC = smf.ols(formula='Sclinton ~ SElectorate + SIncome + SBachelor + SDensity + SRacialDiversity + SForeign', data = data).fit()\n",
    "R2C=1-(1-lmC.rsquared)/(1-lmC0.rsquared)\n",
    "print [R2T, R2C]"
   ]
  },
  {
   "cell_type": "code",
   "execution_count": 48,
   "metadata": {
    "collapsed": false
   },
   "outputs": [
    {
     "name": "stdout",
     "output_type": "stream",
     "text": [
      "[-0.54621717362776279, -0.35751901837303546]\n"
     ]
    }
   ],
   "source": [
    "lmT0 = smf.ols(formula='Strump ~ SElectorate -1', data = data).fit()\n",
    "lmT1 = smf.ols(formula='Strump ~ SElectorate + SIncome + SBachelor + SDensity + SRacialDiversity + SForeign', data=data).fit()\n",
    "R2T=1-(1-lmT1.rsquared)/(1-lmT0.rsquared)\n",
    "lmC0 = smf.ols(formula='Sclinton ~ SElectorate -1', data = data).fit()\n",
    "lmC = smf.ols(formula='Sclinton ~ SElectorate + SIncome + SBachelor + SDensity + SRacialDiversity + SForeign', data = data).fit()\n",
    "R2C=1-(1-lmC.rsquared)/(1-lmC0.rsquared)\n",
    "print [R2T, R2C]"
   ]
  },
  {
   "cell_type": "code",
   "execution_count": 49,
   "metadata": {
    "collapsed": false
   },
   "outputs": [],
   "source": [
    "def addFactorAnalysis(previos,factor):\n",
    "    lmP = smf.ols(formula='Strump ~ ' + previos +' -1', data = data).fit()\n",
    "    lmX = smf.ols(formula=factor+' ~ ' + previos +' -1', data = data).fit()\n",
    "    XP = lmX.predict()\n",
    "    dataX=data\n",
    "    dataX['X']=data[factor]-XP\n",
    "    lm = smf.ols(formula='Strump ~ ' + previos +' + X -1', data = dataX).fit()\n",
    "    pvalue=lm.pvalues[-1]\n",
    "    est=[lm.conf_int()[0].X, lm.conf_int()[1].X]\n",
    "    XR2=1-(1-lm.rsquared)/(1-lmP.rsquared)\n",
    "    print 'R2 = %.4f, p-value=%e, estimate=[%e %e]'%(XR2,pvalue,est[0],est[1])\n",
    "    return [est,pvalue,XR2]"
   ]
  },
  {
   "cell_type": "code",
   "execution_count": 50,
   "metadata": {
    "collapsed": false
   },
   "outputs": [
    {
     "name": "stdout",
     "output_type": "stream",
     "text": [
      "R2 = 0.0110, p-value=6.446414e-08, estimate=[7.730090e-05 1.649018e-04]\n"
     ]
    }
   ],
   "source": [
    "addFactorAnalysis('SElectorate','SIncome');"
   ]
  },
  {
   "cell_type": "code",
   "execution_count": 51,
   "metadata": {
    "collapsed": false
   },
   "outputs": [
    {
     "name": "stdout",
     "output_type": "stream",
     "text": [
      "R2 = 0.0498, p-value=3.634641e-31, estimate=[-3.793786e-01 -2.709585e-01]\n"
     ]
    }
   ],
   "source": [
    "addFactorAnalysis('SElectorate + SIncome','SBachelor');"
   ]
  },
  {
   "cell_type": "code",
   "execution_count": 52,
   "metadata": {
    "collapsed": false,
    "scrolled": true
   },
   "outputs": [
    {
     "name": "stdout",
     "output_type": "stream",
     "text": [
      "R2 = 0.1974, p-value=5.096338e-128, estimate=[-2.419319e-01 -2.073295e-01]\n"
     ]
    },
    {
     "data": {
      "text/plain": [
       "[[-0.24193188253489895, -0.20732947029457238],\n",
       " 5.0963375218419439e-128,\n",
       " 0.19741897292237676]"
      ]
     },
     "execution_count": 52,
     "metadata": {},
     "output_type": "execute_result"
    }
   ],
   "source": [
    "addFactorAnalysis('SElectorate + SIncome + SBachelor + SDensity', 'SRacialDiversity')"
   ]
  },
  {
   "cell_type": "code",
   "execution_count": 53,
   "metadata": {
    "collapsed": false
   },
   "outputs": [
    {
     "name": "stdout",
     "output_type": "stream",
     "text": [
      "R2 = 0.2175, p-value=1.385165e-142, estimate=[-2.200074e-01 -1.902844e-01]\n"
     ]
    },
    {
     "data": {
      "text/plain": [
       "[[-0.22000740636492522, -0.190284416700429],\n",
       " 1.3851653657709554e-142,\n",
       " 0.21749040664879737]"
      ]
     },
     "execution_count": 53,
     "metadata": {},
     "output_type": "execute_result"
    }
   ],
   "source": [
    "addFactorAnalysis('SElectorate + SIncome + SBachelor ', 'SRacialDiversity')"
   ]
  },
  {
   "cell_type": "code",
   "execution_count": 54,
   "metadata": {
    "collapsed": false,
    "scrolled": true
   },
   "outputs": [
    {
     "name": "stdout",
     "output_type": "stream",
     "text": [
      "R2 = 0.0000, p-value=9.796680e-01, estimate=[-5.105907e-02 4.974876e-02]\n"
     ]
    },
    {
     "data": {
      "text/plain": [
       "[[-0.051059070071195721, 0.049748756648825838],\n",
       " 0.97966798680187284,\n",
       " 2.4653375996219751e-07]"
      ]
     },
     "execution_count": 54,
     "metadata": {},
     "output_type": "execute_result"
    }
   ],
   "source": [
    "addFactorAnalysis('SElectorate + SIncome + SBachelor + SRacialDiversity ','SForeign')"
   ]
  },
  {
   "cell_type": "code",
   "execution_count": 55,
   "metadata": {
    "collapsed": false,
    "scrolled": true
   },
   "outputs": [
    {
     "name": "stdout",
     "output_type": "stream",
     "text": [
      "                            OLS Regression Results                            \n",
      "==============================================================================\n",
      "Dep. Variable:            SElectorate   R-squared:                       0.973\n",
      "Model:                            OLS   Adj. R-squared:                  0.973\n",
      "Method:                 Least Squares   F-statistic:                 1.871e+04\n",
      "Date:                Tue, 13 Dec 2016   Prob (F-statistic):               0.00\n",
      "Time:                        08:34:20   Log-Likelihood:                -12862.\n",
      "No. Observations:                2640   AIC:                         2.574e+04\n",
      "Df Residuals:                    2634   BIC:                         2.577e+04\n",
      "Df Model:                           5                                         \n",
      "Covariance Type:            nonrobust                                         \n",
      "====================================================================================\n",
      "                       coef    std err          t      P>|t|      [95.0% Conf. Int.]\n",
      "------------------------------------------------------------------------------------\n",
      "Intercept           50.5030      1.002     50.417      0.000        48.539    52.467\n",
      "SIncome              0.0013   4.98e-05     25.107      0.000         0.001     0.001\n",
      "SBachelor           -0.3658      0.036    -10.229      0.000        -0.436    -0.296\n",
      "SRacialDiversity     0.3462      0.017     20.963      0.000         0.314     0.379\n",
      "SForeign            -0.6608      0.034    -19.244      0.000        -0.728    -0.593\n",
      "SDensity             0.0805      0.002     42.991      0.000         0.077     0.084\n",
      "==============================================================================\n",
      "Omnibus:                      568.098   Durbin-Watson:                   1.570\n",
      "Prob(Omnibus):                  0.000   Jarque-Bera (JB):            18455.499\n",
      "Skew:                           0.255   Prob(JB):                         0.00\n",
      "Kurtosis:                      15.943   Cond. No.                     1.65e+05\n",
      "==============================================================================\n",
      "\n",
      "Warnings:\n",
      "[1] Standard Errors assume that the covariance matrix of the errors is correctly specified.\n",
      "[2] The condition number is large, 1.65e+05. This might indicate that there are\n",
      "strong multicollinearity or other numerical problems.\n"
     ]
    }
   ],
   "source": [
    "lm_ = smf.ols(formula='SElectorate ~ SIncome + SBachelor + SRacialDiversity + SForeign + SDensity', data = data).fit()\n",
    "print lm_.summary()"
   ]
  },
  {
   "cell_type": "code",
   "execution_count": 56,
   "metadata": {
    "collapsed": false
   },
   "outputs": [],
   "source": [
    "for s in [u'SIncome',\n",
    "       u'SBachelor', u'SRacialDiversity', u'SForeign', u'SDensity']:\n",
    "    data[s + '_norm'] = data[s] / data[s].mean()"
   ]
  },
  {
   "cell_type": "code",
   "execution_count": 57,
   "metadata": {
    "collapsed": false
   },
   "outputs": [
    {
     "data": {
      "text/html": [
       "<div>\n",
       "<table border=\"1\" class=\"dataframe\">\n",
       "  <thead>\n",
       "    <tr style=\"text-align: right;\">\n",
       "      <th></th>\n",
       "      <th>trump</th>\n",
       "      <th>clinton</th>\n",
       "      <th>processed</th>\n",
       "      <th>area_name</th>\n",
       "      <th>state_abbreviation</th>\n",
       "      <th>Population</th>\n",
       "      <th>PST040210</th>\n",
       "      <th>PST120214</th>\n",
       "      <th>POP010210</th>\n",
       "      <th>AGE135214</th>\n",
       "      <th>...</th>\n",
       "      <th>SDensity</th>\n",
       "      <th>SSize</th>\n",
       "      <th>Strump</th>\n",
       "      <th>Sclinton</th>\n",
       "      <th>X</th>\n",
       "      <th>SIncome_norm</th>\n",
       "      <th>SBachelor_norm</th>\n",
       "      <th>SRacialDiversity_norm</th>\n",
       "      <th>SForeign_norm</th>\n",
       "      <th>SDensity_norm</th>\n",
       "    </tr>\n",
       "    <tr>\n",
       "      <th>fips</th>\n",
       "      <th></th>\n",
       "      <th></th>\n",
       "      <th></th>\n",
       "      <th></th>\n",
       "      <th></th>\n",
       "      <th></th>\n",
       "      <th></th>\n",
       "      <th></th>\n",
       "      <th></th>\n",
       "      <th></th>\n",
       "      <th></th>\n",
       "      <th></th>\n",
       "      <th></th>\n",
       "      <th></th>\n",
       "      <th></th>\n",
       "      <th></th>\n",
       "      <th></th>\n",
       "      <th></th>\n",
       "      <th></th>\n",
       "      <th></th>\n",
       "      <th></th>\n",
       "    </tr>\n",
       "  </thead>\n",
       "  <tbody>\n",
       "    <tr>\n",
       "      <th>1001</th>\n",
       "      <td>18110</td>\n",
       "      <td>5908</td>\n",
       "      <td>100</td>\n",
       "      <td>Autauga County</td>\n",
       "      <td>AL</td>\n",
       "      <td>55395</td>\n",
       "      <td>54571</td>\n",
       "      <td>1.5</td>\n",
       "      <td>54571</td>\n",
       "      <td>6.0</td>\n",
       "      <td>...</td>\n",
       "      <td>919.998807</td>\n",
       "      <td>2223.299555</td>\n",
       "      <td>88.967701</td>\n",
       "      <td>29.023809</td>\n",
       "      <td>-10.064153</td>\n",
       "      <td>1.042057</td>\n",
       "      <td>0.949301</td>\n",
       "      <td>0.882566</td>\n",
       "      <td>0.220220</td>\n",
       "      <td>0.948865</td>\n",
       "    </tr>\n",
       "    <tr>\n",
       "      <th>1003</th>\n",
       "      <td>72780</td>\n",
       "      <td>18409</td>\n",
       "      <td>100</td>\n",
       "      <td>Baldwin County</td>\n",
       "      <td>AL</td>\n",
       "      <td>200111</td>\n",
       "      <td>182265</td>\n",
       "      <td>9.8</td>\n",
       "      <td>182265</td>\n",
       "      <td>5.6</td>\n",
       "      <td>...</td>\n",
       "      <td>1870.838306</td>\n",
       "      <td>4816.382515</td>\n",
       "      <td>184.453445</td>\n",
       "      <td>46.655722</td>\n",
       "      <td>-2.238515</td>\n",
       "      <td>2.115500</td>\n",
       "      <td>2.344761</td>\n",
       "      <td>1.191916</td>\n",
       "      <td>0.960459</td>\n",
       "      <td>1.929538</td>\n",
       "    </tr>\n",
       "    <tr>\n",
       "      <th>1005</th>\n",
       "      <td>5431</td>\n",
       "      <td>4848</td>\n",
       "      <td>100</td>\n",
       "      <td>Barbour County</td>\n",
       "      <td>AL</td>\n",
       "      <td>26887</td>\n",
       "      <td>27457</td>\n",
       "      <td>-2.1</td>\n",
       "      <td>27457</td>\n",
       "      <td>5.7</td>\n",
       "      <td>...</td>\n",
       "      <td>499.842241</td>\n",
       "      <td>1484.597856</td>\n",
       "      <td>37.311742</td>\n",
       "      <td>33.306449</td>\n",
       "      <td>-15.586054</td>\n",
       "      <td>0.484452</td>\n",
       "      <td>0.413129</td>\n",
       "      <td>1.381169</td>\n",
       "      <td>0.285419</td>\n",
       "      <td>0.515525</td>\n",
       "    </tr>\n",
       "    <tr>\n",
       "      <th>1007</th>\n",
       "      <td>6733</td>\n",
       "      <td>1874</td>\n",
       "      <td>100</td>\n",
       "      <td>Bibb County</td>\n",
       "      <td>AL</td>\n",
       "      <td>22506</td>\n",
       "      <td>22919</td>\n",
       "      <td>-1.8</td>\n",
       "      <td>22915</td>\n",
       "      <td>5.3</td>\n",
       "      <td>...</td>\n",
       "      <td>480.759576</td>\n",
       "      <td>1336.278702</td>\n",
       "      <td>50.494713</td>\n",
       "      <td>14.054224</td>\n",
       "      <td>-2.440897</td>\n",
       "      <td>0.458397</td>\n",
       "      <td>0.340874</td>\n",
       "      <td>0.604191</td>\n",
       "      <td>0.108192</td>\n",
       "      <td>0.495844</td>\n",
       "    </tr>\n",
       "    <tr>\n",
       "      <th>1009</th>\n",
       "      <td>22808</td>\n",
       "      <td>2150</td>\n",
       "      <td>100</td>\n",
       "      <td>Blount County</td>\n",
       "      <td>AL</td>\n",
       "      <td>57719</td>\n",
       "      <td>57322</td>\n",
       "      <td>0.7</td>\n",
       "      <td>57322</td>\n",
       "      <td>6.1</td>\n",
       "      <td>...</td>\n",
       "      <td>942.348872</td>\n",
       "      <td>2302.231692</td>\n",
       "      <td>108.612829</td>\n",
       "      <td>10.238407</td>\n",
       "      <td>9.521413</td>\n",
       "      <td>0.887965</td>\n",
       "      <td>0.555100</td>\n",
       "      <td>0.455237</td>\n",
       "      <td>0.610556</td>\n",
       "      <td>0.971916</td>\n",
       "    </tr>\n",
       "  </tbody>\n",
       "</table>\n",
       "<p>5 rows × 92 columns</p>\n",
       "</div>"
      ],
      "text/plain": [
       "      trump  clinton  processed       area_name state_abbreviation  \\\n",
       "fips                                                                 \n",
       "1001  18110     5908        100  Autauga County                 AL   \n",
       "1003  72780    18409        100  Baldwin County                 AL   \n",
       "1005   5431     4848        100  Barbour County                 AL   \n",
       "1007   6733     1874        100     Bibb County                 AL   \n",
       "1009  22808     2150        100   Blount County                 AL   \n",
       "\n",
       "      Population  PST040210  PST120214  POP010210  AGE135214      ...        \\\n",
       "fips                                                              ...         \n",
       "1001       55395      54571        1.5      54571        6.0      ...         \n",
       "1003      200111     182265        9.8     182265        5.6      ...         \n",
       "1005       26887      27457       -2.1      27457        5.7      ...         \n",
       "1007       22506      22919       -1.8      22915        5.3      ...         \n",
       "1009       57719      57322        0.7      57322        6.1      ...         \n",
       "\n",
       "         SDensity        SSize      Strump   Sclinton          X  \\\n",
       "fips                                                               \n",
       "1001   919.998807  2223.299555   88.967701  29.023809 -10.064153   \n",
       "1003  1870.838306  4816.382515  184.453445  46.655722  -2.238515   \n",
       "1005   499.842241  1484.597856   37.311742  33.306449 -15.586054   \n",
       "1007   480.759576  1336.278702   50.494713  14.054224  -2.440897   \n",
       "1009   942.348872  2302.231692  108.612829  10.238407   9.521413   \n",
       "\n",
       "      SIncome_norm  SBachelor_norm  SRacialDiversity_norm  SForeign_norm  \\\n",
       "fips                                                                       \n",
       "1001      1.042057        0.949301               0.882566       0.220220   \n",
       "1003      2.115500        2.344761               1.191916       0.960459   \n",
       "1005      0.484452        0.413129               1.381169       0.285419   \n",
       "1007      0.458397        0.340874               0.604191       0.108192   \n",
       "1009      0.887965        0.555100               0.455237       0.610556   \n",
       "\n",
       "      SDensity_norm  \n",
       "fips                 \n",
       "1001       0.948865  \n",
       "1003       1.929538  \n",
       "1005       0.515525  \n",
       "1007       0.495844  \n",
       "1009       0.971916  \n",
       "\n",
       "[5 rows x 92 columns]"
      ]
     },
     "execution_count": 57,
     "metadata": {},
     "output_type": "execute_result"
    }
   ],
   "source": [
    "data.head()"
   ]
  },
  {
   "cell_type": "code",
   "execution_count": 58,
   "metadata": {
    "collapsed": false,
    "scrolled": true
   },
   "outputs": [
    {
     "name": "stdout",
     "output_type": "stream",
     "text": [
      "                            OLS Regression Results                            \n",
      "==============================================================================\n",
      "Dep. Variable:                 trumpp   R-squared:                       0.075\n",
      "Model:                            OLS   Adj. R-squared:                  0.073\n",
      "Method:                 Least Squares   F-statistic:                     42.58\n",
      "Date:                Tue, 13 Dec 2016   Prob (F-statistic):           2.62e-42\n",
      "Time:                        08:34:20   Log-Likelihood:                 710.20\n",
      "No. Observations:                2640   AIC:                            -1408.\n",
      "Df Residuals:                    2634   BIC:                            -1373.\n",
      "Df Model:                           5                                         \n",
      "Covariance Type:            nonrobust                                         \n",
      "=========================================================================================\n",
      "                            coef    std err          t      P>|t|      [95.0% Conf. Int.]\n",
      "-----------------------------------------------------------------------------------------\n",
      "Intercept                 0.6818      0.006    116.309      0.000         0.670     0.693\n",
      "SBachelor_norm           -0.0280      0.013     -2.236      0.025        -0.053    -0.003\n",
      "SIncome_norm             -0.0204      0.019     -1.090      0.276        -0.057     0.016\n",
      "SRacialDiversity_norm    -0.0548      0.005    -10.081      0.000        -0.065    -0.044\n",
      "SForeign_norm             0.0307      0.003     10.330      0.000         0.025     0.037\n",
      "SDensity_norm             0.0308      0.011      2.898      0.004         0.010     0.052\n",
      "==============================================================================\n",
      "Omnibus:                      282.926   Durbin-Watson:                   0.948\n",
      "Prob(Omnibus):                  0.000   Jarque-Bera (JB):              381.785\n",
      "Skew:                          -0.930   Prob(JB):                     1.25e-83\n",
      "Kurtosis:                       3.094   Cond. No.                         29.0\n",
      "==============================================================================\n",
      "\n",
      "Warnings:\n",
      "[1] Standard Errors assume that the covariance matrix of the errors is correctly specified.\n"
     ]
    }
   ],
   "source": [
    "lm_ = smf.ols(formula='trumpp ~ SBachelor_norm + SIncome_norm + SRacialDiversity_norm ' +\n",
    "              '+ SForeign_norm + SDensity_norm', data = data).fit()\n",
    "print lm_.summary()"
   ]
  },
  {
   "cell_type": "markdown",
   "metadata": {},
   "source": [
    "*** step 3"
   ]
  },
  {
   "cell_type": "code",
   "execution_count": 59,
   "metadata": {
    "collapsed": false
   },
   "outputs": [
    {
     "name": "stdout",
     "output_type": "stream",
     "text": [
      "R2 = 0.0201, p-value=2.632620e-13, estimate=[1.053654e-04 1.820423e-04]\n"
     ]
    }
   ],
   "source": [
    "addFactorAnalysis('SElectorate + SWhite + SLatino','SIncome'); #!!!!"
   ]
  },
  {
   "cell_type": "code",
   "execution_count": 60,
   "metadata": {
    "collapsed": false
   },
   "outputs": [
    {
     "name": "stdout",
     "output_type": "stream",
     "text": [
      "R2 = 0.0016, p-value=3.729325e-02, estimate=[1.581952e-03 5.213206e-02]\n"
     ]
    }
   ],
   "source": [
    "addFactorAnalysis('SElectorate + SWhite + SLatino','SBachelor');"
   ]
  },
  {
   "cell_type": "code",
   "execution_count": 61,
   "metadata": {
    "collapsed": false
   },
   "outputs": [
    {
     "name": "stdout",
     "output_type": "stream",
     "text": [
      "R2 = 0.0003, p-value=4.024792e-01, estimate=[-6.174282e-02 2.479084e-02]\n"
     ]
    }
   ],
   "source": [
    "addFactorAnalysis('SElectorate + SWhite + SLatino','SBlack');"
   ]
  },
  {
   "cell_type": "code",
   "execution_count": 62,
   "metadata": {
    "collapsed": false
   },
   "outputs": [
    {
     "name": "stdout",
     "output_type": "stream",
     "text": [
      "R2 = 0.0049, p-value=3.261596e-04, estimate=[2.237080e-01 7.594876e-01]\n"
     ]
    }
   ],
   "source": [
    "addFactorAnalysis('SElectorate + SWhite + SLatino','SFemale');"
   ]
  },
  {
   "cell_type": "code",
   "execution_count": 63,
   "metadata": {
    "collapsed": false
   },
   "outputs": [
    {
     "name": "stdout",
     "output_type": "stream",
     "text": [
      "R2 = 0.0070, p-value=1.781980e-05, estimate=[2.843296e-03 7.613341e-03]\n"
     ]
    }
   ],
   "source": [
    "addFactorAnalysis('SElectorate + SWhite + SLatino','SDensity');"
   ]
  },
  {
   "cell_type": "code",
   "execution_count": 64,
   "metadata": {
    "collapsed": false
   },
   "outputs": [
    {
     "name": "stdout",
     "output_type": "stream",
     "text": [
      "R2 = 0.0063, p-value=4.646210e-05, estimate=[-7.845629e-03 -2.751867e-03]\n"
     ]
    }
   ],
   "source": [
    "addFactorAnalysis('SElectorate + SWhite + SLatino','SSize');"
   ]
  },
  {
   "cell_type": "markdown",
   "metadata": {},
   "source": [
    "***step 4 *****"
   ]
  },
  {
   "cell_type": "code",
   "execution_count": 65,
   "metadata": {
    "collapsed": false
   },
   "outputs": [
    {
     "name": "stdout",
     "output_type": "stream",
     "text": [
      "R2 = 0.0266, p-value=3.385761e-17, estimate=[-2.603984e-01 -1.626870e-01]\n"
     ]
    }
   ],
   "source": [
    "addFactorAnalysis('SElectorate + SWhite + SLatino + SIncome','SBachelor'); #!!!!"
   ]
  },
  {
   "cell_type": "code",
   "execution_count": 66,
   "metadata": {
    "collapsed": false
   },
   "outputs": [
    {
     "name": "stdout",
     "output_type": "stream",
     "text": [
      "R2 = 0.0282, p-value=3.817421e-18, estimate=[-1.546747e-02 -9.802783e-03]\n"
     ]
    }
   ],
   "source": [
    "addFactorAnalysis('SElectorate + SWhite + SLatino + SIncome ', 'SSize');"
   ]
  },
  {
   "cell_type": "code",
   "execution_count": 67,
   "metadata": {
    "collapsed": false
   },
   "outputs": [
    {
     "name": "stdout",
     "output_type": "stream",
     "text": [
      "R2 = 0.0148, p-value=3.695754e-10, estimate=[-2.129300e-01 -1.117267e-01]\n"
     ]
    }
   ],
   "source": [
    "addFactorAnalysis('SElectorate + SWhite + SLatino + SIncome + SSize', 'SBachelor');"
   ]
  },
  {
   "cell_type": "code",
   "execution_count": 68,
   "metadata": {
    "collapsed": false
   },
   "outputs": [
    {
     "name": "stdout",
     "output_type": "stream",
     "text": [
      "R2 = 0.0203, p-value=1.916950e-13, estimate=[2.498316e-01 4.301947e-01]\n"
     ]
    }
   ],
   "source": [
    "addFactorAnalysis('SElectorate + SWhite + SLatino + SIncome + SSize', 'SSeniors');"
   ]
  },
  {
   "cell_type": "code",
   "execution_count": 69,
   "metadata": {
    "collapsed": false
   },
   "outputs": [
    {
     "name": "stdout",
     "output_type": "stream",
     "text": [
      "R2 = 0.0114, p-value=4.017374e-08, estimate=[4.884500e-01 1.028733e+00]\n"
     ]
    }
   ],
   "source": [
    "addFactorAnalysis('SElectorate + SWhite + SLatino + SIncome + SSize', 'SFemale');"
   ]
  },
  {
   "cell_type": "code",
   "execution_count": 70,
   "metadata": {
    "collapsed": false
   },
   "outputs": [
    {
     "name": "stdout",
     "output_type": "stream",
     "text": [
      "R2 = 0.0216, p-value=3.523742e-14, estimate=[-1.462950e-02 -8.641034e-03]\n"
     ]
    }
   ],
   "source": [
    "addFactorAnalysis('SElectorate + SWhite + SLatino + SIncome + SFemale + SBachelor + SSeniors', 'SSize');"
   ]
  },
  {
   "cell_type": "code",
   "execution_count": 71,
   "metadata": {
    "collapsed": true
   },
   "outputs": [],
   "source": [
    "def addFactorAnalysisC(previos,factor):\n",
    "    lmP = smf.ols(formula='Sclinton ~ ' + previos +' -1', data = data).fit()\n",
    "    lmX = smf.ols(formula=factor+' ~ ' + previos +' -1', data = data).fit()\n",
    "    XP = lmX.predict()\n",
    "    dataX=data\n",
    "    dataX['X']=data[factor]-XP\n",
    "    lm = smf.ols(formula='Sclinton ~ ' + previos +' + X -1', data = dataX).fit()\n",
    "    pvalue=lm.pvalues[-1]\n",
    "    est=[lm.conf_int()[0].X, lm.conf_int()[1].X]\n",
    "    XR2=1-(1-lm.rsquared)/(1-lmP.rsquared)\n",
    "    print 'R2 = %.4f, p-value=%e, estimate=[%e %e]'%(XR2,pvalue,est[0],est[1])\n",
    "    return [est,pvalue,XR2]"
   ]
  },
  {
   "cell_type": "code",
   "execution_count": 72,
   "metadata": {
    "collapsed": false
   },
   "outputs": [
    {
     "name": "stdout",
     "output_type": "stream",
     "text": [
      "R2 = 0.0076, p-value=6.900844e-06, estimate=[-7.662697e-03 -3.015620e-03]\n"
     ]
    }
   ],
   "source": [
    "addFactorAnalysisC('SElectorate ', 'SSize');"
   ]
  },
  {
   "cell_type": "code",
   "execution_count": 73,
   "metadata": {
    "collapsed": false
   },
   "outputs": [
    {
     "name": "stdout",
     "output_type": "stream",
     "text": [
      "R2 = 0.0029, p-value=5.803521e-03, estimate=[-8.290389e-03 -1.404742e-03]\n"
     ]
    }
   ],
   "source": [
    "addFactorAnalysisC('SElectorate + SWhite + SLatino + SIncome + SFemale + SBachelor + SSeniors', 'SSize');"
   ]
  },
  {
   "cell_type": "code",
   "execution_count": 74,
   "metadata": {
    "collapsed": false
   },
   "outputs": [
    {
     "data": {
      "text/plain": [
       "[<matplotlib.lines.Line2D at 0x7f0076f44050>]"
      ]
     },
     "execution_count": 74,
     "metadata": {},
     "output_type": "execute_result"
    },
    {
     "data": {
      "image/png": "[encoded data removed]",
      "text/plain": [
       "<matplotlib.figure.Figure at 0x7f0076f31f50>"
      ]
     },
     "metadata": {},
     "output_type": "display_data"
    }
   ],
   "source": [
    "plt.plot(data.SSize/data.SElectorate,data.Sclinton/data.SElectorate,'.')"
   ]
  },
  {
   "cell_type": "code",
   "execution_count": 75,
   "metadata": {
    "collapsed": false
   },
   "outputs": [
    {
     "data": {
      "text/plain": [
       "[<matplotlib.lines.Line2D at 0x7f0076d4afd0>]"
      ]
     },
     "execution_count": 75,
     "metadata": {},
     "output_type": "execute_result"
    },
    {
     "data": {
      "image/png": "[encoded data removed]",
      "text/plain": [
       "<matplotlib.figure.Figure at 0x7f0076f31e10>"
      ]
     },
     "metadata": {},
     "output_type": "display_data"
    }
   ],
   "source": [
    "plt.plot(data.SSize/data.SElectorate,data.Strump/data.SElectorate,'.')"
   ]
  },
  {
   "cell_type": "code",
   "execution_count": 76,
   "metadata": {
    "collapsed": true
   },
   "outputs": [],
   "source": [
    "lmTrump = smf.ols(formula='Strump ~ SElectorate + SWhite + SLatino + SIncome + SFemale + SBachelor + SSeniors', data = data).fit()\n",
    "resTrump = data.Strump - lmTrump.predict()"
   ]
  },
  {
   "cell_type": "code",
   "execution_count": 77,
   "metadata": {
    "collapsed": true
   },
   "outputs": [],
   "source": [
    "lmClinton = smf.ols(formula='Sclinton ~ SElectorate + SWhite + SLatino + SIncome + SFemale + SBachelor + SSeniors', data = data).fit()\n",
    "resClinton = data.Sclinton - lmClinton.predict()"
   ]
  },
  {
   "cell_type": "code",
   "execution_count": 78,
   "metadata": {
    "collapsed": false
   },
   "outputs": [
    {
     "data": {
      "text/plain": [
       "[<matplotlib.lines.Line2D at 0x7f0076cf2b90>]"
      ]
     },
     "execution_count": 78,
     "metadata": {},
     "output_type": "execute_result"
    },
    {
     "data": {
      "image/png": "[encoded data removed]",
      "text/plain": [
       "<matplotlib.figure.Figure at 0x7f0076d7fed0>"
      ]
     },
     "metadata": {},
     "output_type": "display_data"
    }
   ],
   "source": [
    "plt.plot(data.SSize/data.SElectorate,resClinton/data.SElectorate,'.')"
   ]
  },
  {
   "cell_type": "code",
   "execution_count": 79,
   "metadata": {
    "collapsed": false
   },
   "outputs": [
    {
     "data": {
      "text/plain": [
       "[<matplotlib.lines.Line2D at 0x7f0076c232d0>]"
      ]
     },
     "execution_count": 79,
     "metadata": {},
     "output_type": "execute_result"
    },
    {
     "data": {
      "image/png": "[encoded data removed]",
      "text/plain": [
       "<matplotlib.figure.Figure at 0x7f0076cb9350>"
      ]
     },
     "metadata": {},
     "output_type": "display_data"
    }
   ],
   "source": [
    "plt.plot(data.SDensity/data.SElectorate,resTrump/data.SElectorate,'.')"
   ]
  },
  {
   "cell_type": "code",
   "execution_count": 80,
   "metadata": {
    "collapsed": false
   },
   "outputs": [
    {
     "data": {
      "text/plain": [
       "[<matplotlib.lines.Line2D at 0x7f0076b60410>]"
      ]
     },
     "execution_count": 80,
     "metadata": {},
     "output_type": "execute_result"
    },
    {
     "data": {
      "image/png": "[encoded data removed]",
      "text/plain": [
       "<matplotlib.figure.Figure at 0x7f0076be3510>"
      ]
     },
     "metadata": {},
     "output_type": "display_data"
    }
   ],
   "source": [
    "plt.plot(data.SDensity/data.SElectorate,resClinton/data.SElectorate,'.')"
   ]
  },
  {
   "cell_type": "code",
   "execution_count": 81,
   "metadata": {
    "collapsed": false
   },
   "outputs": [
    {
     "data": {
      "text/plain": [
       "[<matplotlib.lines.Line2D at 0x7f0076a9d210>]"
      ]
     },
     "execution_count": 81,
     "metadata": {},
     "output_type": "execute_result"
    },
    {
     "data": {
      "image/png": "[encoded data removed]",
      "text/plain": [
       "<matplotlib.figure.Figure at 0x7f0076c4d0d0>"
      ]
     },
     "metadata": {},
     "output_type": "display_data"
    }
   ],
   "source": [
    "plt.plot(data.TSize,data.trump/data.TElectorate,'.')"
   ]
  },
  {
   "cell_type": "code",
   "execution_count": 82,
   "metadata": {
    "collapsed": false
   },
   "outputs": [
    {
     "data": {
      "text/plain": [
       "0.6807789237537512"
      ]
     },
     "execution_count": 82,
     "metadata": {},
     "output_type": "execute_result"
    }
   ],
   "source": [
    "ind=(data.Population<1e4)&(data.Population>1e3)\n",
    "1.0*sum(data.trump[ind])/(sum(data.trump[ind])+sum(data.clinton[ind]))"
   ]
  },
  {
   "cell_type": "code",
   "execution_count": 83,
   "metadata": {
    "collapsed": false
   },
   "outputs": [
    {
     "data": {
      "text/plain": [
       "0.7988649066987703"
      ]
     },
     "execution_count": 83,
     "metadata": {},
     "output_type": "execute_result"
    }
   ],
   "source": [
    "ind=(data.Population<1e3)&(data.Population>1e1)\n",
    "1.0*sum(data.trump[ind])/(sum(data.trump[ind])+sum(data.clinton[ind]))"
   ]
  },
  {
   "cell_type": "code",
   "execution_count": 84,
   "metadata": {
    "collapsed": false
   },
   "outputs": [
    {
     "data": {
      "text/plain": [
       "0.6234965717197312"
      ]
     },
     "execution_count": 84,
     "metadata": {},
     "output_type": "execute_result"
    }
   ],
   "source": [
    "ind=(data.Population<1e5)&(data.Population>1e4)\n",
    "1.0*sum(data.trump[ind])/(sum(data.trump[ind])+sum(data.clinton[ind]))"
   ]
  },
  {
   "cell_type": "code",
   "execution_count": 85,
   "metadata": {
    "collapsed": false
   },
   "outputs": [
    {
     "data": {
      "text/plain": [
       "0.5492493444489315"
      ]
     },
     "execution_count": 85,
     "metadata": {},
     "output_type": "execute_result"
    }
   ],
   "source": [
    "ind=(data.Population<1e7)&(data.Population>1e5)\n",
    "1.0*sum(data.trump[ind])/(sum(data.trump[ind])+sum(data.clinton[ind]))"
   ]
  },
  {
   "cell_type": "code",
   "execution_count": 86,
   "metadata": {
    "collapsed": false
   },
   "outputs": [
    {
     "data": {
      "text/plain": [
       "0.6141529737655815"
      ]
     },
     "execution_count": 86,
     "metadata": {},
     "output_type": "execute_result"
    }
   ],
   "source": [
    "ind=(data.Density<1e2)&(data.Population>1e1)\n",
    "1.0*sum(data.trump[ind])/(sum(data.trump[ind])+sum(data.clinton[ind]))"
   ]
  },
  {
   "cell_type": "code",
   "execution_count": 87,
   "metadata": {
    "collapsed": false
   },
   "outputs": [
    {
     "data": {
      "text/plain": [
       "0.5833182847324875"
      ]
     },
     "execution_count": 87,
     "metadata": {},
     "output_type": "execute_result"
    }
   ],
   "source": [
    "ind=(data.Density<1e3)&(data.Population>1e2)\n",
    "1.0*sum(data.trump[ind])/(sum(data.trump[ind])+sum(data.clinton[ind]))"
   ]
  },
  {
   "cell_type": "code",
   "execution_count": 88,
   "metadata": {
    "collapsed": false
   },
   "outputs": [
    {
     "data": {
      "text/plain": [
       "0.5391731233985939"
      ]
     },
     "execution_count": 88,
     "metadata": {},
     "output_type": "execute_result"
    }
   ],
   "source": [
    "ind=(data.Density<1e4)&(data.Density>1e3)\n",
    "1.0*sum(data.trump[ind])/(sum(data.trump[ind])+sum(data.clinton[ind]))"
   ]
  },
  {
   "cell_type": "code",
   "execution_count": 89,
   "metadata": {
    "collapsed": false
   },
   "outputs": [
    {
     "data": {
      "text/plain": [
       "0.19143366636014095"
      ]
     },
     "execution_count": 89,
     "metadata": {},
     "output_type": "execute_result"
    }
   ],
   "source": [
    "ind=(data.Density<1e2)&(data.Density>1e1)\n",
    "1.0*(0*sum(data.trump[ind])+1*sum(data.clinton[ind]))/sum(data.TElectorate[ind])"
   ]
  },
  {
   "cell_type": "code",
   "execution_count": 90,
   "metadata": {
    "collapsed": false
   },
   "outputs": [
    {
     "data": {
      "text/plain": [
       "0.21322817740492547"
      ]
     },
     "execution_count": 90,
     "metadata": {},
     "output_type": "execute_result"
    }
   ],
   "source": [
    "ind=(data.Density<1e3)&(data.Density>1e2)\n",
    "1.0*(0*sum(data.trump[ind])+1*sum(data.clinton[ind]))/sum(data.TElectorate[ind])"
   ]
  },
  {
   "cell_type": "code",
   "execution_count": 91,
   "metadata": {
    "collapsed": false
   },
   "outputs": [
    {
     "data": {
      "text/plain": [
       "0.21518141193793403"
      ]
     },
     "execution_count": 91,
     "metadata": {},
     "output_type": "execute_result"
    }
   ],
   "source": [
    "ind=(data.Density<1e4)&(data.Density>1e3)\n",
    "1.0*(0*sum(data.trump[ind])+1*sum(data.clinton[ind]))/sum(data.TElectorate[ind])"
   ]
  },
  {
   "cell_type": "code",
   "execution_count": 92,
   "metadata": {
    "collapsed": false
   },
   "outputs": [
    {
     "data": {
      "text/plain": [
       "0.16025357987793523"
      ]
     },
     "execution_count": 92,
     "metadata": {},
     "output_type": "execute_result"
    }
   ],
   "source": [
    "ind=(data.Density<1e3)&(data.Density>1e2)\n",
    "1.0*(sum(data.TLatino[ind]))/sum(data.TElectorate[ind])"
   ]
  },
  {
   "cell_type": "code",
   "execution_count": 93,
   "metadata": {
    "collapsed": false
   },
   "outputs": [
    {
     "data": {
      "text/plain": [
       "0.11485779576686408"
      ]
     },
     "execution_count": 93,
     "metadata": {},
     "output_type": "execute_result"
    }
   ],
   "source": [
    "ind=(data.Density<1e2)&(data.Density>1e1)\n",
    "1.0*sum(data.TLatino[ind])/sum(data.TElectorate[ind])"
   ]
  },
  {
   "cell_type": "code",
   "execution_count": 94,
   "metadata": {
    "collapsed": false
   },
   "outputs": [
    {
     "data": {
      "text/plain": [
       "0.17836676856992692"
      ]
     },
     "execution_count": 94,
     "metadata": {},
     "output_type": "execute_result"
    }
   ],
   "source": [
    "ind=(data.Density<1e4)&(data.Population>1e3)\n",
    "1.0*sum(data.TLatino[ind])/sum(data.TElectorate[ind])"
   ]
  },
  {
   "cell_type": "code",
   "execution_count": 95,
   "metadata": {
    "collapsed": false
   },
   "outputs": [
    {
     "name": "stdout",
     "output_type": "stream",
     "text": [
      "R2 = 0.1351, p-value=3.097192e-85, estimate=[-8.793852e-05 -7.244508e-05]\n"
     ]
    }
   ],
   "source": [
    "addFactorAnalysis('TElectorate','TDensity');"
   ]
  },
  {
   "cell_type": "code",
   "execution_count": 96,
   "metadata": {
    "collapsed": false
   },
   "outputs": [
    {
     "data": {
      "text/plain": [
       "3.6732543252525525"
      ]
     },
     "execution_count": 96,
     "metadata": {},
     "output_type": "execute_result"
    }
   ],
   "source": [
    "ind=(data.Density<1e2)&(data.Population>1e1)\n",
    "1.0*sum(data.TDensity[ind])/sum(data.TElectorate[ind])"
   ]
  },
  {
   "cell_type": "code",
   "execution_count": 97,
   "metadata": {
    "collapsed": false
   },
   "outputs": [
    {
     "data": {
      "text/plain": [
       "[0.069083116054926896, 0.059871395032437102]"
      ]
     },
     "execution_count": 97,
     "metadata": {},
     "output_type": "execute_result"
    }
   ],
   "source": [
    "singleFactorAnalysis('TDensity')"
   ]
  },
  {
   "cell_type": "code",
   "execution_count": 98,
   "metadata": {
    "collapsed": false
   },
   "outputs": [
    {
     "name": "stdout",
     "output_type": "stream",
     "text": [
      "                            OLS Regression Results                            \n",
      "==============================================================================\n",
      "Dep. Variable:                 trumpp   R-squared:                       0.027\n",
      "Model:                            OLS   Adj. R-squared:                  0.026\n",
      "Method:                 Least Squares   F-statistic:                     72.22\n",
      "Date:                Tue, 13 Dec 2016   Prob (F-statistic):           3.17e-17\n",
      "Time:                        08:34:23   Log-Likelihood:                 643.26\n",
      "No. Observations:                2640   AIC:                            -1283.\n",
      "Df Residuals:                    2638   BIC:                            -1271.\n",
      "Df Model:                           1                                         \n",
      "Covariance Type:            nonrobust                                         \n",
      "==============================================================================\n",
      "                 coef    std err          t      P>|t|      [95.0% Conf. Int.]\n",
      "------------------------------------------------------------------------------\n",
      "Intercept      0.6611      0.004    148.564      0.000         0.652     0.670\n",
      "SDensity   -2.177e-05   2.56e-06     -8.498      0.000     -2.68e-05 -1.67e-05\n",
      "==============================================================================\n",
      "Omnibus:                      232.035   Durbin-Watson:                   0.996\n",
      "Prob(Omnibus):                  0.000   Jarque-Bera (JB):              290.470\n",
      "Skew:                          -0.803   Prob(JB):                     8.42e-64\n",
      "Kurtosis:                       2.750   Cond. No.                     2.09e+03\n",
      "==============================================================================\n",
      "\n",
      "Warnings:\n",
      "[1] Standard Errors assume that the covariance matrix of the errors is correctly specified.\n",
      "[2] The condition number is large, 2.09e+03. This might indicate that there are\n",
      "strong multicollinearity or other numerical problems.\n"
     ]
    }
   ],
   "source": [
    "lm_ = smf.ols(formula='trumpp ~ SDensity', data = data).fit()\n",
    "print lm_.summary()"
   ]
  },
  {
   "cell_type": "code",
   "execution_count": 99,
   "metadata": {
    "collapsed": false
   },
   "outputs": [
    {
     "name": "stdout",
     "output_type": "stream",
     "text": [
      "                            OLS Regression Results                            \n",
      "==============================================================================\n",
      "Dep. Variable:                  trump   R-squared:                       0.911\n",
      "Model:                            OLS   Adj. R-squared:                  0.911\n",
      "Method:                 Least Squares   F-statistic:                 2.692e+04\n",
      "Date:                Tue, 13 Dec 2016   Prob (F-statistic):               0.00\n",
      "Time:                        08:34:23   Log-Likelihood:                -29685.\n",
      "No. Observations:                2640   AIC:                         5.937e+04\n",
      "Df Residuals:                    2638   BIC:                         5.939e+04\n",
      "Df Model:                           1                                         \n",
      "Covariance Type:            nonrobust                                         \n",
      "==============================================================================\n",
      "                 coef    std err          t      P>|t|      [95.0% Conf. Int.]\n",
      "------------------------------------------------------------------------------\n",
      "Intercept   6504.6446    370.460     17.558      0.000      5778.223  7231.066\n",
      "TDensity       0.0309      0.000    164.075      0.000         0.031     0.031\n",
      "==============================================================================\n",
      "Omnibus:                     3058.759   Durbin-Watson:                   1.888\n",
      "Prob(Omnibus):                  0.000   Jarque-Bera (JB):          3068236.336\n",
      "Skew:                           5.090   Prob(JB):                         0.00\n",
      "Kurtosis:                     169.702   Cond. No.                     2.02e+06\n",
      "==============================================================================\n",
      "\n",
      "Warnings:\n",
      "[1] Standard Errors assume that the covariance matrix of the errors is correctly specified.\n",
      "[2] The condition number is large, 2.02e+06. This might indicate that there are\n",
      "strong multicollinearity or other numerical problems.\n"
     ]
    }
   ],
   "source": [
    "lm_ = smf.ols(formula='trump ~ TDensity', data = data).fit()\n",
    "print lm_.summary()"
   ]
  },
  {
   "cell_type": "code",
   "execution_count": 100,
   "metadata": {
    "collapsed": false
   },
   "outputs": [
    {
     "data": {
      "text/plain": [
       "<matplotlib.axes._subplots.AxesSubplot at 0x7f0076abe550>"
      ]
     },
     "execution_count": 100,
     "metadata": {},
     "output_type": "execute_result"
    },
    {
     "data": {
      "image/png": "[encoded data removed]",
      "text/plain": [
       "<matplotlib.figure.Figure at 0x7f0076ea5e10>"
      ]
     },
     "metadata": {},
     "output_type": "display_data"
    }
   ],
   "source": [
    "data.plot(x='TDensity', y = 'trumpp', kind='scatter', logx=True)"
   ]
  },
  {
   "cell_type": "code",
   "execution_count": 101,
   "metadata": {
    "collapsed": true
   },
   "outputs": [],
   "source": [
    "from sklearn.ensemble import RandomForestClassifier"
   ]
  },
  {
   "cell_type": "code",
   "execution_count": 102,
   "metadata": {
    "collapsed": false,
    "scrolled": true
   },
   "outputs": [
    {
     "data": {
      "text/plain": [
       "Index([                u'trump',               u'clinton',\n",
       "                   u'processed',             u'area_name',\n",
       "          u'state_abbreviation',            u'Population',\n",
       "                   u'PST040210',             u'PST120214',\n",
       "                   u'POP010210',             u'AGE135214',\n",
       "                u'Population18',                u'Senior',\n",
       "                      u'Female',                 u'White',\n",
       "                       u'Black',             u'RHI325214',\n",
       "                       u'Asian',             u'RHI525214',\n",
       "                       u'Mixed',                u'Latino',\n",
       "                     u'WhiteNH',             u'POP715213',\n",
       "                     u'Foreign',             u'POP815213',\n",
       "                   u'EDU635213',              u'Bachelor',\n",
       "                   u'VET605213',             u'LFE305213',\n",
       "                   u'HSG010214',            u'HomeOwners',\n",
       "                   u'HSG096213',             u'HSG495213',\n",
       "                   u'HSD410213',             u'HSD310213',\n",
       "                      u'Income',             u'INC110213',\n",
       "                   u'PVY020213',             u'BZA010213',\n",
       "                   u'BZA110213',             u'BZA115213',\n",
       "                   u'NES010213',             u'SBO001207',\n",
       "                   u'SBO315207',             u'SBO115207',\n",
       "                   u'SBO215207',             u'SBO515207',\n",
       "                   u'SBO415207',             u'SBO015207',\n",
       "                   u'MAN450207',             u'WTN220207',\n",
       "                   u'RTN130207',             u'RTN131207',\n",
       "                   u'AFN120207',             u'BPS030214',\n",
       "                   u'LND110210',               u'Density',\n",
       "                      u'trumpp',           u'TElectorate',\n",
       "                     u'TFemale',              u'TSeniors',\n",
       "                      u'TWhite',                u'TBlack',\n",
       "                     u'TLatino',                u'TAsian',\n",
       "                     u'TIncome',             u'TBachelor',\n",
       "                       u'TArea',      u'TRacialDiversity',\n",
       "                    u'TForeign',           u'SElectorate',\n",
       "                     u'SFemale',              u'SSeniors',\n",
       "                      u'SWhite',                u'SBlack',\n",
       "                     u'SLatino',                u'SAsian',\n",
       "                     u'SIncome',             u'SBachelor',\n",
       "            u'SRacialDiversity',              u'SForeign',\n",
       "                    u'TDensity',                 u'TSize',\n",
       "                    u'SDensity',                 u'SSize',\n",
       "                      u'Strump',              u'Sclinton',\n",
       "                           u'X',          u'SIncome_norm',\n",
       "              u'SBachelor_norm', u'SRacialDiversity_norm',\n",
       "               u'SForeign_norm',         u'SDensity_norm'],\n",
       "      dtype='object')"
      ]
     },
     "execution_count": 102,
     "metadata": {},
     "output_type": "execute_result"
    }
   ],
   "source": [
    "data.columns"
   ]
  },
  {
   "cell_type": "code",
   "execution_count": 103,
   "metadata": {
    "collapsed": false
   },
   "outputs": [],
   "source": [
    "data_new = data[['SIncome_norm', 'SBachelor_norm',\\\n",
    "                 'SRacialDiversity_norm', 'SForeign_norm', 'SDensity_norm']]"
   ]
  },
  {
   "cell_type": "code",
   "execution_count": 104,
   "metadata": {
    "collapsed": false,
    "scrolled": true
   },
   "outputs": [
    {
     "data": {
      "text/html": [
       "<div>\n",
       "<table border=\"1\" class=\"dataframe\">\n",
       "  <thead>\n",
       "    <tr style=\"text-align: right;\">\n",
       "      <th></th>\n",
       "      <th>SIncome_norm</th>\n",
       "      <th>SBachelor_norm</th>\n",
       "      <th>SRacialDiversity_norm</th>\n",
       "      <th>SForeign_norm</th>\n",
       "      <th>SDensity_norm</th>\n",
       "    </tr>\n",
       "    <tr>\n",
       "      <th>fips</th>\n",
       "      <th></th>\n",
       "      <th></th>\n",
       "      <th></th>\n",
       "      <th></th>\n",
       "      <th></th>\n",
       "    </tr>\n",
       "  </thead>\n",
       "  <tbody>\n",
       "    <tr>\n",
       "      <th>1001</th>\n",
       "      <td>1.042057</td>\n",
       "      <td>0.949301</td>\n",
       "      <td>0.882566</td>\n",
       "      <td>0.220220</td>\n",
       "      <td>0.948865</td>\n",
       "    </tr>\n",
       "    <tr>\n",
       "      <th>1003</th>\n",
       "      <td>2.115500</td>\n",
       "      <td>2.344761</td>\n",
       "      <td>1.191916</td>\n",
       "      <td>0.960459</td>\n",
       "      <td>1.929538</td>\n",
       "    </tr>\n",
       "    <tr>\n",
       "      <th>1005</th>\n",
       "      <td>0.484452</td>\n",
       "      <td>0.413129</td>\n",
       "      <td>1.381169</td>\n",
       "      <td>0.285419</td>\n",
       "      <td>0.515525</td>\n",
       "    </tr>\n",
       "    <tr>\n",
       "      <th>1007</th>\n",
       "      <td>0.458397</td>\n",
       "      <td>0.340874</td>\n",
       "      <td>0.604191</td>\n",
       "      <td>0.108192</td>\n",
       "      <td>0.495844</td>\n",
       "    </tr>\n",
       "    <tr>\n",
       "      <th>1009</th>\n",
       "      <td>0.887965</td>\n",
       "      <td>0.555100</td>\n",
       "      <td>0.455237</td>\n",
       "      <td>0.610556</td>\n",
       "      <td>0.971916</td>\n",
       "    </tr>\n",
       "  </tbody>\n",
       "</table>\n",
       "</div>"
      ],
      "text/plain": [
       "      SIncome_norm  SBachelor_norm  SRacialDiversity_norm  SForeign_norm  \\\n",
       "fips                                                                       \n",
       "1001      1.042057        0.949301               0.882566       0.220220   \n",
       "1003      2.115500        2.344761               1.191916       0.960459   \n",
       "1005      0.484452        0.413129               1.381169       0.285419   \n",
       "1007      0.458397        0.340874               0.604191       0.108192   \n",
       "1009      0.887965        0.555100               0.455237       0.610556   \n",
       "\n",
       "      SDensity_norm  \n",
       "fips                 \n",
       "1001       0.948865  \n",
       "1003       1.929538  \n",
       "1005       0.515525  \n",
       "1007       0.495844  \n",
       "1009       0.971916  "
      ]
     },
     "execution_count": 104,
     "metadata": {},
     "output_type": "execute_result"
    }
   ],
   "source": [
    "data_new.head()"
   ]
  },
  {
   "cell_type": "code",
   "execution_count": 105,
   "metadata": {
    "collapsed": false
   },
   "outputs": [
    {
     "data": {
      "text/plain": [
       "(2640, 5)"
      ]
     },
     "execution_count": 105,
     "metadata": {},
     "output_type": "execute_result"
    }
   ],
   "source": [
    "data_new.shape"
   ]
  },
  {
   "cell_type": "code",
   "execution_count": 106,
   "metadata": {
    "collapsed": false
   },
   "outputs": [],
   "source": [
    "data_new = data_new.dropna()"
   ]
  },
  {
   "cell_type": "code",
   "execution_count": 107,
   "metadata": {
    "collapsed": true
   },
   "outputs": [],
   "source": [
    "clf = RandomForestClassifier(n_estimators=100)"
   ]
  },
  {
   "cell_type": "code",
   "execution_count": 108,
   "metadata": {
    "collapsed": false
   },
   "outputs": [],
   "source": [
    "model = clf.fit(data_new, data.trumpp)"
   ]
  },
  {
   "cell_type": "code",
   "execution_count": 109,
   "metadata": {
    "collapsed": false
   },
   "outputs": [
    {
     "data": {
      "text/plain": [
       "array([ 0.19864577,  0.20017764,  0.20078254,  0.20196822,  0.19842583])"
      ]
     },
     "execution_count": 109,
     "metadata": {},
     "output_type": "execute_result"
    }
   ],
   "source": [
    "model.feature_importances_"
   ]
  },
  {
   "cell_type": "code",
   "execution_count": 110,
   "metadata": {
    "collapsed": false
   },
   "outputs": [],
   "source": [
    "data_new = data[['SFemale', 'SBachelor','SLatino','SBlack', 'SAsian',\\\n",
    "                 'SIncome', 'SForeign', 'SDensity']]"
   ]
  },
  {
   "cell_type": "code",
   "execution_count": 111,
   "metadata": {
    "collapsed": true
   },
   "outputs": [],
   "source": [
    "data_new = data_new.dropna()"
   ]
  },
  {
   "cell_type": "code",
   "execution_count": 112,
   "metadata": {
    "collapsed": false,
    "scrolled": false
   },
   "outputs": [
    {
     "data": {
      "text/html": [
       "<div>\n",
       "<table border=\"1\" class=\"dataframe\">\n",
       "  <thead>\n",
       "    <tr style=\"text-align: right;\">\n",
       "      <th></th>\n",
       "      <th>SFemale</th>\n",
       "      <th>SBachelor</th>\n",
       "      <th>SLatino</th>\n",
       "      <th>SBlack</th>\n",
       "      <th>SAsian</th>\n",
       "      <th>SIncome</th>\n",
       "      <th>SForeign</th>\n",
       "      <th>SDensity</th>\n",
       "    </tr>\n",
       "    <tr>\n",
       "      <th>fips</th>\n",
       "      <th></th>\n",
       "      <th></th>\n",
       "      <th></th>\n",
       "      <th></th>\n",
       "      <th></th>\n",
       "      <th></th>\n",
       "      <th></th>\n",
       "      <th></th>\n",
       "    </tr>\n",
       "  </thead>\n",
       "  <tbody>\n",
       "    <tr>\n",
       "      <th>1001</th>\n",
       "      <td>104.628308</td>\n",
       "      <td>56.876226</td>\n",
       "      <td>5.496040</td>\n",
       "      <td>38.065163</td>\n",
       "      <td>2.239127</td>\n",
       "      <td>66866.303674</td>\n",
       "      <td>3.256912</td>\n",
       "      <td>919.998807</td>\n",
       "    </tr>\n",
       "    <tr>\n",
       "      <th>1003</th>\n",
       "      <td>202.020406</td>\n",
       "      <td>140.483543</td>\n",
       "      <td>18.150271</td>\n",
       "      <td>37.878826</td>\n",
       "      <td>3.551140</td>\n",
       "      <td>135746.661102</td>\n",
       "      <td>14.204560</td>\n",
       "      <td>1870.838306</td>\n",
       "    </tr>\n",
       "    <tr>\n",
       "      <th>1005</th>\n",
       "      <td>67.829747</td>\n",
       "      <td>24.752146</td>\n",
       "      <td>6.550083</td>\n",
       "      <td>69.285321</td>\n",
       "      <td>0.727787</td>\n",
       "      <td>31086.109701</td>\n",
       "      <td>4.221165</td>\n",
       "      <td>499.842241</td>\n",
       "    </tr>\n",
       "    <tr>\n",
       "      <th>1007</th>\n",
       "      <td>61.203377</td>\n",
       "      <td>20.423068</td>\n",
       "      <td>2.800155</td>\n",
       "      <td>29.468293</td>\n",
       "      <td>0.266681</td>\n",
       "      <td>29414.281394</td>\n",
       "      <td>1.600088</td>\n",
       "      <td>480.759576</td>\n",
       "    </tr>\n",
       "    <tr>\n",
       "      <th>1009</th>\n",
       "      <td>106.046773</td>\n",
       "      <td>33.258150</td>\n",
       "      <td>18.269444</td>\n",
       "      <td>3.779885</td>\n",
       "      <td>0.629981</td>\n",
       "      <td>56978.632505</td>\n",
       "      <td>9.029725</td>\n",
       "      <td>942.348872</td>\n",
       "    </tr>\n",
       "  </tbody>\n",
       "</table>\n",
       "</div>"
      ],
      "text/plain": [
       "         SFemale   SBachelor    SLatino     SBlack    SAsian        SIncome  \\\n",
       "fips                                                                          \n",
       "1001  104.628308   56.876226   5.496040  38.065163  2.239127   66866.303674   \n",
       "1003  202.020406  140.483543  18.150271  37.878826  3.551140  135746.661102   \n",
       "1005   67.829747   24.752146   6.550083  69.285321  0.727787   31086.109701   \n",
       "1007   61.203377   20.423068   2.800155  29.468293  0.266681   29414.281394   \n",
       "1009  106.046773   33.258150  18.269444   3.779885  0.629981   56978.632505   \n",
       "\n",
       "       SForeign     SDensity  \n",
       "fips                          \n",
       "1001   3.256912   919.998807  \n",
       "1003  14.204560  1870.838306  \n",
       "1005   4.221165   499.842241  \n",
       "1007   1.600088   480.759576  \n",
       "1009   9.029725   942.348872  "
      ]
     },
     "execution_count": 112,
     "metadata": {},
     "output_type": "execute_result"
    }
   ],
   "source": [
    "data_new.head()"
   ]
  },
  {
   "cell_type": "code",
   "execution_count": 113,
   "metadata": {
    "collapsed": false,
    "scrolled": true
   },
   "outputs": [
    {
     "data": {
      "text/plain": [
       "array([ 0.12456854,  0.12603404,  0.12523939,  0.12579284,  0.12583977,\n",
       "        0.1230363 ,  0.12473924,  0.12474987])"
      ]
     },
     "execution_count": 113,
     "metadata": {},
     "output_type": "execute_result"
    }
   ],
   "source": [
    "clf = RandomForestClassifier(n_estimators=100)\n",
    "model = clf.fit(data_new, data.Strump)\n",
    "model.feature_importances_"
   ]
  },
  {
   "cell_type": "code",
   "execution_count": 115,
   "metadata": {
    "collapsed": false
   },
   "outputs": [
    {
     "data": {
      "text/plain": [
       "array([ 0.09500305,  0.10062393,  0.10354733,  0.1011244 ,  0.10165702,\n",
       "        0.09694699,  0.09879995,  0.10477825,  0.09739102,  0.10012807])"
      ]
     },
     "execution_count": 115,
     "metadata": {},
     "output_type": "execute_result"
    }
   ],
   "source": [
    "data_new = data[['TFemale', 'TSeniors', 'TBlack', 'TLatino', 'TAsian',\\\n",
    "                 'TIncome', 'TBachelor', 'TArea', 'TRacialDiversity', 'TForeign']]\n",
    "data_new = data_new.dropna()\n",
    "clf = RandomForestClassifier(n_estimators=100)\n",
    "model = clf.fit(data_new, data.trump)\n",
    "model.feature_importances_"
   ]
  },
  {
   "cell_type": "code",
   "execution_count": 118,
   "metadata": {
    "collapsed": false
   },
   "outputs": [],
   "source": [
    "array_a = list(np.arange(len(data_new.columns)))"
   ]
  },
  {
   "cell_type": "code",
   "execution_count": 119,
   "metadata": {
    "collapsed": false
   },
   "outputs": [
    {
     "data": {
      "text/plain": [
       "[<matplotlib.text.Text at 0x7eff28a51e10>,\n",
       " <matplotlib.text.Text at 0x7eff28a51bd0>,\n",
       " <matplotlib.text.Text at 0x7eff28ae1810>,\n",
       " <matplotlib.text.Text at 0x7eff28ae1f90>,\n",
       " <matplotlib.text.Text at 0x7eff28a84750>,\n",
       " <matplotlib.text.Text at 0x7eff28a84ed0>,\n",
       " <matplotlib.text.Text at 0x7eff28a78690>]"
      ]
     },
     "execution_count": 119,
     "metadata": {},
     "output_type": "execute_result"
    },
    {
     "data": {
      "image/png": "[encoded data removed]",
      "text/plain": [
       "<matplotlib.figure.Figure at 0x7eff28af2f90>"
      ]
     },
     "metadata": {},
     "output_type": "display_data"
    }
   ],
   "source": [
    "fig = plt.figure(figsize=(10,8))\n",
    "ax = fig.add_subplot(111)\n",
    "ax.bar(array_a, model.feature_importances_, 0.35)\n",
    "ax.set_ylabel('Feature importance', fontsize=20)\n",
    "ax.set_xlabel('Facotrs', fontsize=20)\n",
    "ax.set_xlim(-1,10)\n",
    "ax.set_xticklabels(['TFemale', 'TSeniors', 'TBlack', 'TLatino', 'TAsian',\\\n",
    "                 'TIncome', 'TBachelor', 'TArea', 'TRacialDiversity', 'TForeign'])"
   ]
  },
  {
   "cell_type": "code",
   "execution_count": 120,
   "metadata": {
    "collapsed": false,
    "scrolled": false
   },
   "outputs": [
    {
     "name": "stdout",
     "output_type": "stream",
     "text": [
      "[ 0.09628969  0.1057748   0.10281487  0.09610705  0.09962712  0.0809617\n",
      "  0.10978782  0.10564554  0.10672872  0.09626269]\n"
     ]
    },
    {
     "data": {
      "text/plain": [
       "[<matplotlib.text.Text at 0x7eff289d1d50>,\n",
       " <matplotlib.text.Text at 0x7eff289c4d50>,\n",
       " <matplotlib.text.Text at 0x7eff2895ddd0>,\n",
       " <matplotlib.text.Text at 0x7eff2896a590>,\n",
       " <matplotlib.text.Text at 0x7eff2896ad10>,\n",
       " <matplotlib.text.Text at 0x7eff288f44d0>,\n",
       " <matplotlib.text.Text at 0x7eff288f4c50>,\n",
       " <matplotlib.text.Text at 0x7eff288fd410>,\n",
       " <matplotlib.text.Text at 0x7eff288fdb90>,\n",
       " <matplotlib.text.Text at 0x7eff28907350>]"
      ]
     },
     "execution_count": 120,
     "metadata": {},
     "output_type": "execute_result"
    },
    {
     "data": {
      "image/png": "[encoded data removed]",
      "text/plain": [
       "<matplotlib.figure.Figure at 0x7eff28c07fd0>"
      ]
     },
     "metadata": {},
     "output_type": "display_data"
    }
   ],
   "source": [
    "col = ['Female', 'Senior', 'WhiteNH', 'Black', 'Latino', 'Asian', 'Income', 'Bachelor', 'HomeOwners', 'Foreign']\n",
    "data_new = data[col]\n",
    "data_new = data_new.dropna()\n",
    "clf = RandomForestClassifier(n_estimators=100)\n",
    "model = clf.fit(data_new, data.trump)\n",
    "print model.feature_importances_\n",
    "array_a = np.arange(len(data_new.columns.values))\n",
    "fig = plt.figure(figsize=(10,8))\n",
    "ax = fig.add_subplot(111)\n",
    "ax.bar(array_a, model.feature_importances_, 0.35)\n",
    "ax.set_ylabel('Feature importance', fontsize=20)\n",
    "ax.set_xlabel('Facotrs', fontsize=20)\n",
    "ax.set_xlim(-1,10)\n",
    "ax.set_xticks(array_a)\n",
    "ax.set_xticklabels(col, rotation=45)"
   ]
  },
  {
   "cell_type": "code",
   "execution_count": null,
   "metadata": {
    "collapsed": true
   },
   "outputs": [],
   "source": []
  }
 ],
 "metadata": {
  "kernelspec": {
   "display_name": "Python 2",
   "language": "python",
   "name": "python2"
  },
  "language_info": {
   "codemirror_mode": {
    "name": "ipython",
    "version": 2
   },
   "file_extension": ".py",
   "mimetype": "text/x-python",
   "name": "python",
   "nbconvert_exporter": "python",
   "pygments_lexer": "ipython2",
   "version": "2.7.11"
  }
 },
 "nbformat": 4,
 "nbformat_minor": 0
}
