{
 "cells": [
  {
   "cell_type": "markdown",
   "metadata": {},
   "source": [
    "## Formulate the Null hypothesis in words and in formulae for the 4 experiments below:"
   ]
  },
  {
   "cell_type": "markdown",
   "metadata": {},
   "source": [
    "## 1. \n",
    "\n",
    "## Idea: Do diets help lose more fat than the exercise?\n",
    "\n",
    "### Null Hypothesis: the average weight loss of diets group is less or same than the average weight loss of exercise group.\n",
    "### $\\alpha$ = 0.05\n",
    "\n",
    "### $S_0:$ The average weight of control group minus the average weight of diets group in 3 months.\n",
    "\n",
    "### $S_1:$ The The average weight of control group minus the average weight of exercise group in 3 months.\n",
    "\n",
    "### $H_0: S_0 - S_1$ <= 0\n",
    "\n",
    "### $H_a: S_0 - S_1$ >  0"
   ]
  },
  {
   "cell_type": "markdown",
   "metadata": {},
   "source": [
    "## 2. \n",
    "\n",
    "## Idea: Do American trust the president? \n",
    "## POLL RESULTS: On May 16, 1994, Newsweek reported the results of a public opinion poll that asked: “From everything you know about Bill Clinton, does he have the honesty and integrity you expect in a president?” (p. 23). Poll surveyed 518 adults and 233, or 0.45 of them answered yes.\n",
    "\n",
    "### Null Hypothesis: equal or less than half of americans claim Bill Clinton has met their expectation as a president.\n",
    "### $\\alpha$ = 0.05\n",
    "\n",
    "### $S_0:$ Percentage of people who claimed that Bill Clinton had met their expectation in honesty and integrity.\n",
    "\n",
    "### $S_1:$ Percentage of people who claimed that Bill Clinton had not met their expectation in honesty and integrity.\n",
    "\n",
    "### $H_0: S_0 - S_1$ <= 0\n",
    "\n",
    "### $H_a: S_0 - S_1$ >  0"
   ]
  },
  {
   "cell_type": "markdown",
   "metadata": {},
   "source": [
    "## 3. \n",
    "\n",
    "## Idea: Effectiveness of nicotine patches to quit.\n",
    "## Experimental setup: measure cessation rates for smokers randomly assigned to use a nicotine patch versus a placebo patch.\n",
    "\n",
    "### Null Hypothesis: Smokers used placebo patch has a higher or same rate of cessation than smokers used nicotine patch in 6 months.\n",
    "### $\\alpha$ = 0.05\n",
    "\n",
    "### $S_0:$ Percentage of smokers who use nicotine patch quit smoking in 6 months\n",
    "\n",
    "### $S_1:$  Percentage of smokers who use placebo patch quit smoking in 6 months\n",
    "\n",
    "### $H_0: S_0 - S_1$ <= 0\n",
    "\n",
    "### $H_a: S_0 - S_1$ >  0"
   ]
  },
  {
   "cell_type": "markdown",
   "metadata": {},
   "source": [
    "## 4. \n",
    "\n",
    "## Idea: Quantify the danger of smoking for pregnant women. \n",
    "## Experimemtal setup: measure IQ of children at ages 1, 2, 3, and 4 years of age.\n",
    "\n",
    "### Null Hypothesis: the rate of IQ development of children from age 1 to 4 of pregnant women with smoking is higher or equal than children of pregnant women without smoking.\n",
    "### $\\alpha$ = 0.05\n",
    "\n",
    "### $S_0:$ the average rate of IQ development of children from age 1 to 4 of pregnant women without smoking\n",
    "\n",
    "### $S_1:$ the average rate of IQ development of children from age 1 to 4 of pregnant women with smoking\n",
    "\n",
    "### $H_0: S_0 - S_1$ <= 0\n",
    "\n",
    "### $H_a: S_0 - S_1$ >  0"
   ]
  },
  {
   "cell_type": "code",
   "execution_count": null,
   "metadata": {
    "collapsed": true
   },
   "outputs": [],
   "source": []
  }
 ],
 "metadata": {
  "kernelspec": {
   "display_name": "PUI2016_Python2",
   "language": "python",
   "name": "pui2016_python2"
  },
  "language_info": {
   "codemirror_mode": {
    "name": "ipython",
    "version": 2
   },
   "file_extension": ".py",
   "mimetype": "text/x-python",
   "name": "python",
   "nbconvert_exporter": "python",
   "pygments_lexer": "ipython2",
   "version": "2.7.12"
  }
 },
 "nbformat": 4,
 "nbformat_minor": 0
}
